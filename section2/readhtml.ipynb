{
 "cells": [
  {
   "cell_type": "markdown",
   "metadata": {},
   "source": [
    "## Read in HTML data"
   ]
  },
  {
   "cell_type": "code",
   "execution_count": 1,
   "metadata": {
    "collapsed": true
   },
   "outputs": [],
   "source": [
    "import pandas as pd\n",
    "import html5lib"
   ]
  },
  {
   "cell_type": "markdown",
   "metadata": {},
   "source": [
    "### specify the html to be read in"
   ]
  },
  {
   "cell_type": "code",
   "execution_count": 2,
   "metadata": {
    "collapsed": true
   },
   "outputs": [],
   "source": [
    "uss=pd.read_html('https://simple.wikipedia.org/wiki/List_of_U.S._states') "
   ]
  },
  {
   "cell_type": "code",
   "execution_count": 3,
   "metadata": {},
   "outputs": [
    {
     "name": "stdout",
     "output_type": "stream",
     "text": [
      "<type 'list'>\n"
     ]
    }
   ],
   "source": [
    "print(type(uss)) # #this is a list of dataframes"
   ]
  },
  {
   "cell_type": "code",
   "execution_count": 4,
   "metadata": {},
   "outputs": [
    {
     "name": "stdout",
     "output_type": "stream",
     "text": [
      "<class 'pandas.core.frame.DataFrame'>\n"
     ]
    }
   ],
   "source": [
    "u = uss[0] #grab dataframe from index 0\n",
    "print(type(u))"
   ]
  },
  {
   "cell_type": "markdown",
   "metadata": {},
   "source": [
    "### another url"
   ]
  },
  {
   "cell_type": "code",
   "execution_count": 5,
   "metadata": {},
   "outputs": [
    {
     "name": "stdout",
     "output_type": "stream",
     "text": [
      "<type 'list'>\n"
     ]
    }
   ],
   "source": [
    "url = 'http://www.fdic.gov/bank/individual/failed/banklist.html'\n",
    "\n",
    "dfs = pd.read_html(url) #this is a list of dataframes\n",
    "\n",
    "print(type(dfs))"
   ]
  },
  {
   "cell_type": "code",
   "execution_count": 6,
   "metadata": {},
   "outputs": [
    {
     "name": "stdout",
     "output_type": "stream",
     "text": [
      "                                             Bank Name                City  \\\n",
      "0                                  Fayette County Bank          Saint Elmo   \n",
      "1    Guaranty Bank, (d/b/a BestBank in Georgia & Mi...           Milwaukee   \n",
      "2                                       First NBC Bank         New Orleans   \n",
      "3                                        Proficio Bank  Cottonwood Heights   \n",
      "4                        Seaway Bank and Trust Company             Chicago   \n",
      "5                               Harvest Community Bank          Pennsville   \n",
      "6                                          Allied Bank            Mulberry   \n",
      "7                         The Woodbury Banking Company            Woodbury   \n",
      "8                               First CornerStone Bank     King of Prussia   \n",
      "9                                   Trust Company Bank             Memphis   \n",
      "10                          North Milwaukee State Bank           Milwaukee   \n",
      "11                              Hometown National Bank            Longview   \n",
      "12                                 The Bank of Georgia      Peachtree City   \n",
      "13                                        Premier Bank              Denver   \n",
      "14                                      Edgebrook Bank             Chicago   \n",
      "15                              Doral Bank  En Espanol            San Juan   \n",
      "16                   Capitol City Bank & Trust Company             Atlanta   \n",
      "17                             Highland Community Bank             Chicago   \n",
      "18                    First National Bank of Crestview           Crestview   \n",
      "19                                  Northern Star Bank             Mankato   \n",
      "20              Frontier Bank, FSB D/B/A El Paseo Bank         Palm Desert   \n",
      "21               The National Republic Bank of Chicago             Chicago   \n",
      "22                                      NBRS Financial          Rising Sun   \n",
      "23                               GreenChoice Bank, fsb             Chicago   \n",
      "24                            Eastside Commercial Bank             Conyers   \n",
      "25                              The Freedom State Bank             Freedom   \n",
      "26                                         Valley Bank     Fort Lauderdale   \n",
      "27                                         Valley Bank              Moline   \n",
      "28                         Slavie Federal Savings Bank             Bel Air   \n",
      "29                               Columbia Savings Bank          Cincinnati   \n",
      "..                                                 ...                 ...   \n",
      "523                                  ANB Financial, NA         Bentonville   \n",
      "524                                          Hume Bank                Hume   \n",
      "525                             Douglass National Bank         Kansas City   \n",
      "526                                  Miami Valley Bank            Lakeview   \n",
      "527                                            NetBank          Alpharetta   \n",
      "528                          Metropolitan Savings Bank          Pittsburgh   \n",
      "529                                    Bank of Ephraim             Ephraim   \n",
      "530                                      Reliance Bank        White Plains   \n",
      "531              Guaranty National Bank of Tallahassee         Tallahassee   \n",
      "532                                Dollar Savings Bank              Newark   \n",
      "533                               Pulaski Savings Bank        Philadelphia   \n",
      "534              First National Bank of Blanchardville      Blanchardville   \n",
      "535                              Southern Pacific Bank            Torrance   \n",
      "536                        Farmers Bank of Cheneyville         Cheneyville   \n",
      "537                                      Bank of Alamo               Alamo   \n",
      "538             AmTrade International Bank  En Espanol             Atlanta   \n",
      "539                     Universal Federal Savings Bank             Chicago   \n",
      "540                       Connecticut Bank of Commerce            Stamford   \n",
      "541                                   New Century Bank     Shelby Township   \n",
      "542                              Net 1st National Bank          Boca Raton   \n",
      "543                                       NextBank, NA             Phoenix   \n",
      "544                           Oakwood Deposit Bank Co.             Oakwood   \n",
      "545                              Bank of Sierra Blanca       Sierra Blanca   \n",
      "546                      Hamilton Bank, NA  En Espanol               Miami   \n",
      "547                             Sinclair National Bank            Gravette   \n",
      "548                                 Superior Bank, FSB            Hinsdale   \n",
      "549                                Malta National Bank               Malta   \n",
      "550                    First Alliance Bank & Trust Co.          Manchester   \n",
      "551                  National State Bank of Metropolis          Metropolis   \n",
      "552                                   Bank of Honolulu            Honolulu   \n",
      "\n",
      "     ST   CERT                Acquiring Institution        Closing Date  \\\n",
      "0    IL   1802            United Fidelity Bank, fsb        May 26, 2017   \n",
      "1    WI  30003  First-Citizens Bank & Trust Company         May 5, 2017   \n",
      "2    LA  58302                         Whitney Bank      April 28, 2017   \n",
      "3    UT  35495                    Cache Valley Bank       March 3, 2017   \n",
      "4    IL  19328                  State Bank of Texas    January 27, 2017   \n",
      "5    NJ  34951  First-Citizens Bank & Trust Company    January 13, 2017   \n",
      "6    AR     91                         Today's Bank  September 23, 2016   \n",
      "7    GA  11297                          United Bank     August 19, 2016   \n",
      "8    PA  35312  First-Citizens Bank & Trust Company         May 6, 2016   \n",
      "9    TN   9956           The Bank of Fayette County      April 29, 2016   \n",
      "10   WI  20364  First-Citizens Bank & Trust Company      March 11, 2016   \n",
      "11   WA  35156                       Twin City Bank     October 2, 2015   \n",
      "12   GA  35259                        Fidelity Bank     October 2, 2015   \n",
      "13   CO  34112            United Fidelity Bank, fsb       July 10, 2015   \n",
      "14   IL  57772             Republic Bank of Chicago         May 8, 2015   \n",
      "15   PR  32102         Banco Popular de Puerto Rico   February 27, 2015   \n",
      "16   GA  33938  First-Citizens Bank & Trust Company   February 13, 2015   \n",
      "17   IL  20290            United Fidelity Bank, fsb    January 23, 2015   \n",
      "18   FL  17557                       First NBC Bank    January 16, 2015   \n",
      "19   MN  34983                            BankVista   December 19, 2014   \n",
      "20   CA  34738    Bank of Southern California, N.A.    November 7, 2014   \n",
      "21   IL    916                  State Bank of Texas    October 24, 2014   \n",
      "22   MD   4862                          Howard Bank    October 17, 2014   \n",
      "23   IL  28462                 Providence Bank, LLC       July 25, 2014   \n",
      "24   GA  58125            Community & Southern Bank       July 18, 2014   \n",
      "25   OK  12483      Alva State Bank & Trust Company       June 27, 2014   \n",
      "26   FL  21793  Landmark Bank, National Association       June 20, 2014   \n",
      "27   IL  10450                  Great Southern Bank       June 20, 2014   \n",
      "28   MD  32368                        Bay Bank, FSB        May 30, 2014   \n",
      "29   OH  32284            United Fidelity Bank, fsb        May 23, 2014   \n",
      "..   ..    ...                                  ...                 ...   \n",
      "523  AR  33901       Pulaski Bank and Trust Company         May 9, 2008   \n",
      "524  MO   1971                        Security Bank       March 7, 2008   \n",
      "525  MO  24660       Liberty Bank and Trust Company    January 25, 2008   \n",
      "526  OH  16848         The Citizens Banking Company     October 4, 2007   \n",
      "527  GA  32575                           ING DIRECT  September 28, 2007   \n",
      "528  PA  35353  Allegheny Valley Bank of Pittsburgh    February 2, 2007   \n",
      "529  UT   1249                        Far West Bank       June 25, 2004   \n",
      "530  NY  26778                     Union State Bank      March 19, 2004   \n",
      "531  FL  26838              Hancock Bank of Florida      March 12, 2004   \n",
      "532  NJ  31330                          No Acquirer   February 14, 2004   \n",
      "533  PA  27203                       Earthstar Bank   November 14, 2003   \n",
      "534  WI  11639                        The Park Bank         May 9, 2003   \n",
      "535  CA  27094                            Beal Bank    February 7, 2003   \n",
      "536  LA  16445            Sabine State Bank & Trust   December 17, 2002   \n",
      "537  TN   9961                          No Acquirer    November 8, 2002   \n",
      "538  GA  33784                          No Acquirer  September 30, 2002   \n",
      "539  IL  29355               Chicago Community Bank       June 27, 2002   \n",
      "540  CT  19183                   Hudson United Bank       June 26, 2002   \n",
      "541  MI  34979                          No Acquirer      March 28, 2002   \n",
      "542  FL  26652                       Bank Leumi USA       March 1, 2002   \n",
      "543  AZ  22314                          No Acquirer    February 7, 2002   \n",
      "544  OH   8966       The State Bank & Trust Company    February 1, 2002   \n",
      "545  TX  22002     The Security State Bank of Pecos    January 18, 2002   \n",
      "546  FL  24382     Israel Discount Bank of New York    January 11, 2002   \n",
      "547  AR  34248                   Delta Trust & Bank   September 7, 2001   \n",
      "548  IL  32646                Superior Federal, FSB       July 27, 2001   \n",
      "549  OH   6629                    North Valley Bank         May 3, 2001   \n",
      "550  NH  34264  Southern New Hampshire Bank & Trust    February 2, 2001   \n",
      "551  IL   3815              Banterra Bank of Marion   December 14, 2000   \n",
      "552  HI  21029                   Bank of the Orient    October 13, 2000   \n",
      "\n",
      "           Updated Date  \n",
      "0         July 26, 2017  \n",
      "1         July 26, 2017  \n",
      "2         July 26, 2017  \n",
      "3          May 18, 2017  \n",
      "4          May 18, 2017  \n",
      "5          May 18, 2017  \n",
      "6     November 17, 2016  \n",
      "7          June 1, 2017  \n",
      "8     September 6, 2016  \n",
      "9     September 6, 2016  \n",
      "10       March 13, 2017  \n",
      "11       April 13, 2016  \n",
      "12     October 24, 2016  \n",
      "13      August 17, 2016  \n",
      "14        July 12, 2016  \n",
      "15         May 13, 2015  \n",
      "16       April 21, 2015  \n",
      "17       April 21, 2015  \n",
      "18          May 8, 2017  \n",
      "19      January 6, 2016  \n",
      "20    November 10, 2016  \n",
      "21      January 6, 2016  \n",
      "22       March 26, 2015  \n",
      "23    December 12, 2016  \n",
      "24        July 11, 2016  \n",
      "25       March 25, 2016  \n",
      "26        June 29, 2015  \n",
      "27        June 26, 2015  \n",
      "28    December 12, 2016  \n",
      "29    November 10, 2016  \n",
      "..                  ...  \n",
      "523     August 28, 2012  \n",
      "524     August 28, 2012  \n",
      "525    October 26, 2012  \n",
      "526  September 12, 2016  \n",
      "527     August 28, 2012  \n",
      "528    October 27, 2010  \n",
      "529       April 9, 2008  \n",
      "530       April 9, 2008  \n",
      "531        June 5, 2012  \n",
      "532       April 9, 2008  \n",
      "533       July 22, 2005  \n",
      "534        June 5, 2012  \n",
      "535    October 20, 2008  \n",
      "536    October 20, 2004  \n",
      "537      March 18, 2005  \n",
      "538  September 11, 2006  \n",
      "539       April 9, 2008  \n",
      "540   February 14, 2012  \n",
      "541      March 18, 2005  \n",
      "542       April 9, 2008  \n",
      "543    February 5, 2015  \n",
      "544    October 25, 2012  \n",
      "545    November 6, 2003  \n",
      "546  September 21, 2015  \n",
      "547   February 10, 2004  \n",
      "548     August 19, 2014  \n",
      "549   November 18, 2002  \n",
      "550   February 18, 2003  \n",
      "551      March 17, 2005  \n",
      "552      March 17, 2005  \n",
      "\n",
      "[553 rows x 7 columns]\n"
     ]
    }
   ],
   "source": [
    "df = dfs[0] #list of dataframes\n",
    "print(df)"
   ]
  },
  {
   "cell_type": "code",
   "execution_count": 7,
   "metadata": {
    "collapsed": true
   },
   "outputs": [],
   "source": [
    "whsSK=pd.read_html('https://en.wikipedia.org/wiki/List_of_World_Heritage_Sites_in_South_Korea') "
   ]
  },
  {
   "cell_type": "code",
   "execution_count": 8,
   "metadata": {},
   "outputs": [
    {
     "name": "stdout",
     "output_type": "stream",
     "text": [
      "                                                    0      1  \\\n",
      "0                                                Site  Image   \n",
      "1                               Baekje Historic Areas    NaN   \n",
      "2            Gochang, Hwasun and Ganghwa Dolmen Sites    NaN   \n",
      "3                        Changdeokgung Palace Complex    NaN   \n",
      "4                             Gyeongju Historic Areas    NaN   \n",
      "5   Haeinsa Temple Janggyeong Panjeon, the Deposit...    NaN   \n",
      "6      Historic Villages of Korea: Hahoe and Yangdong    NaN   \n",
      "7                                   Hwaseong Fortress    NaN   \n",
      "8                 Jeju Volcanic Island and Lava Tubes    NaN   \n",
      "9                                      Jongmyo Shrine    NaN   \n",
      "10                                     Namhansanseong    NaN   \n",
      "11                  Royal Tombs of the Joseon Dynasty    NaN   \n",
      "12               Seokguram Grotto and Bulguksa Temple    NaN   \n",
      "\n",
      "                                                    2  \\\n",
      "0                                            Location   \n",
      "1   KorSouth Chungcheong and North Jeolla 36°27′43...   \n",
      "2   KorIncheon North Jeolla South Jeolla 34°58′0.0...   \n",
      "3   KorSeoul 37°33′00″N 126°59′00″E﻿ / ﻿37.55000°N...   \n",
      "4   KorNorth Gyeongsang 35°47′20″N 129°13′36″E﻿ / ...   \n",
      "5   KorSouth Gyeongsang 35°48′00″N 128°06′00″E﻿ / ...   \n",
      "6   KorNorth Gyeongsang 36°32′21″N 128°31′00″E﻿ / ...   \n",
      "7   KorGyeonggi 37°16′20″N 127°00′30″E﻿ / ﻿37.2722...   \n",
      "8   KorJeju 33°28′08″N 126°43′13″E﻿ / ﻿33.46889°N ...   \n",
      "9   KorSeoul 37°33′00″N 126°59′00″E﻿ / ﻿37.55000°N...   \n",
      "10  KorGyeonggi 37°28′44″N 127°10′52″E﻿ / ﻿37.4788...   \n",
      "11  KorGyeonggi and Seoul 37°11′50″N 128°27′10″E﻿ ...   \n",
      "12  KorNorth Gyeongsang 35°47′00″N 129°21′00″E﻿ / ...   \n",
      "\n",
      "                                3                                   4     5  \\\n",
      "0                        Criteria                      Area ha (acre)  Year   \n",
      "1       Cultural:KorBae (ii)(iii)       7006135000000000000♠135 (330)  2015   \n",
      "2           Cultural:KorCha (iii)                                   —  2000   \n",
      "3   Cultural:KorCha (ii)(iii)(iv)                                   —  1997   \n",
      "4       Cultural:KorGye (ii)(iii)   7007288000000000000♠2,880 (7,100)  2000   \n",
      "5        Cultural:KorHae (iv)(vi)                                   —  1995   \n",
      "6       Cultural:KorHis (iii)(iv)     7006600000000000000♠600 (1,500)  2010   \n",
      "7       Cultural:KorHwa (ii)(iii)                                   —  1997   \n",
      "8      Natural:KorJej (vii)(viii)  7007947500000000000♠9,475 (23,410)  2007   \n",
      "9            Cultural:KorJon (iv)         7005190000000000000♠19 (47)  1995   \n",
      "10       Cultural:KorNam (ii)(iv)     7006409000000000000♠409 (1,010)  2014   \n",
      "11  Cultural:KorRoy (iii)(iv)(vi)   7007189100000000000♠1,891 (4,670)  2009   \n",
      "12        Cultural:KorSeo (i)(iv)                                   —  1995   \n",
      "\n",
      "              6  \n",
      "0   Description  \n",
      "1           [9]  \n",
      "2          [10]  \n",
      "3          [11]  \n",
      "4          [12]  \n",
      "5          [13]  \n",
      "6          [14]  \n",
      "7          [15]  \n",
      "8          [16]  \n",
      "9          [17]  \n",
      "10         [18]  \n",
      "11         [19]  \n",
      "12         [20]  \n"
     ]
    }
   ],
   "source": [
    "whs_sk = whsSK[0] #grab dataframe from index 0\n",
    "print(whs_sk)"
   ]
  },
  {
   "cell_type": "markdown",
   "metadata": {},
   "source": [
    "### #page with 1+ table"
   ]
  },
  {
   "cell_type": "code",
   "execution_count": 9,
   "metadata": {
    "collapsed": true
   },
   "outputs": [],
   "source": [
    "whsPH=pd.read_html('https://en.wikipedia.org/wiki/List_of_World_Heritage_Sites_in_the_Philippines') "
   ]
  },
  {
   "cell_type": "code",
   "execution_count": 10,
   "metadata": {},
   "outputs": [
    {
     "name": "stdout",
     "output_type": "stream",
     "text": [
      "                                                   0  \\\n",
      "0  Investigation of potential copyright issue Ple...   \n",
      "1  If you have just labeled this page as a potent...   \n",
      "2  The previous content of this page or section h...   \n",
      "3  Can you help resolve this issue? For more deta...   \n",
      "4  About importing text to Wikipedia For more det...   \n",
      "\n",
      "                                                   1  \n",
      "0                                                NaN  \n",
      "1                                                NaN  \n",
      "2                                                NaN  \n",
      "3                                                NaN  \n",
      "4  Instructions for filing If you have tagged the...  \n"
     ]
    }
   ],
   "source": [
    "whs_phl = whsPH[2] #grab dataframe from index 1, table 2 of the tentative WHS sites\n",
    "print(whs_phl)"
   ]
  },
  {
   "cell_type": "code",
   "execution_count": null,
   "metadata": {
    "collapsed": true
   },
   "outputs": [],
   "source": []
  }
 ],
 "metadata": {
  "kernelspec": {
   "display_name": "Python 2",
   "language": "python",
   "name": "python2"
  },
  "language_info": {
   "codemirror_mode": {
    "name": "ipython",
    "version": 2
   },
   "file_extension": ".py",
   "mimetype": "text/x-python",
   "name": "python",
   "nbconvert_exporter": "python",
   "pygments_lexer": "ipython2",
   "version": "2.7.13"
  }
 },
 "nbformat": 4,
 "nbformat_minor": 2
}
