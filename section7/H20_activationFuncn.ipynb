{
 "cells": [
  {
   "cell_type": "code",
   "execution_count": null,
   "metadata": {
    "collapsed": true
   },
   "outputs": [],
   "source": []
  },
  {
   "cell_type": "markdown",
   "metadata": {},
   "source": [
    "# Specify activation function"
   ]
  },
  {
   "cell_type": "code",
   "execution_count": 45,
   "metadata": {
    "collapsed": true
   },
   "outputs": [],
   "source": [
    "model2= H2ODeepLearningEstimator(activation = \"Tanh\", hidden = [10, 10, 10], epochs = 10000)"
   ]
  },
  {
   "cell_type": "code",
   "execution_count": 50,
   "metadata": {},
   "outputs": [
    {
     "name": "stdout",
     "output_type": "stream",
     "text": [
      "deeplearning Model Build progress: |██████████████████████████████████████| 100%\n"
     ]
    }
   ],
   "source": [
    "model2.train(x = list(set(g.columns) - set([\"Type\"])), y =\"Type\", training_frame = g)"
   ]
  },
  {
   "cell_type": "code",
   "execution_count": 51,
   "metadata": {},
   "outputs": [
    {
     "name": "stdout",
     "output_type": "stream",
     "text": [
      "Model Details\n",
      "=============\n",
      "H2ODeepLearningEstimator :  Deep Learning\n",
      "Model Key:  DeepLearning_model_python_1503168175656_3\n",
      "Status of Neuron Layers: predicting Type, regression, gaussian distribution, Quadratic loss, 331 weights/biases, 8.7 KB, 2,140,000 training samples, mini-batch size 1\n",
      "\n"
     ]
    },
    {
     "data": {
      "text/html": [
       "<div style=\"overflow:auto\"><table style=\"width:50%\"><tr><td><b></b></td>\n",
       "<td><b>layer</b></td>\n",
       "<td><b>units</b></td>\n",
       "<td><b>type</b></td>\n",
       "<td><b>dropout</b></td>\n",
       "<td><b>l1</b></td>\n",
       "<td><b>l2</b></td>\n",
       "<td><b>mean_rate</b></td>\n",
       "<td><b>rate_rms</b></td>\n",
       "<td><b>momentum</b></td>\n",
       "<td><b>mean_weight</b></td>\n",
       "<td><b>weight_rms</b></td>\n",
       "<td><b>mean_bias</b></td>\n",
       "<td><b>bias_rms</b></td></tr>\n",
       "<tr><td></td>\n",
       "<td>1</td>\n",
       "<td>9</td>\n",
       "<td>Input</td>\n",
       "<td>0.0</td>\n",
       "<td></td>\n",
       "<td></td>\n",
       "<td></td>\n",
       "<td></td>\n",
       "<td></td>\n",
       "<td></td>\n",
       "<td></td>\n",
       "<td></td>\n",
       "<td></td></tr>\n",
       "<tr><td></td>\n",
       "<td>2</td>\n",
       "<td>10</td>\n",
       "<td>Tanh</td>\n",
       "<td>0.0</td>\n",
       "<td>0.0</td>\n",
       "<td>0.0</td>\n",
       "<td>0.0148956</td>\n",
       "<td>0.0119479</td>\n",
       "<td>0.0</td>\n",
       "<td>-0.1502660</td>\n",
       "<td>0.9972751</td>\n",
       "<td>-0.0811750</td>\n",
       "<td>0.4430555</td></tr>\n",
       "<tr><td></td>\n",
       "<td>3</td>\n",
       "<td>10</td>\n",
       "<td>Tanh</td>\n",
       "<td>0.0</td>\n",
       "<td>0.0</td>\n",
       "<td>0.0</td>\n",
       "<td>0.0257021</td>\n",
       "<td>0.0222130</td>\n",
       "<td>0.0</td>\n",
       "<td>0.0735521</td>\n",
       "<td>0.9622409</td>\n",
       "<td>0.2473466</td>\n",
       "<td>0.6096244</td></tr>\n",
       "<tr><td></td>\n",
       "<td>4</td>\n",
       "<td>10</td>\n",
       "<td>Tanh</td>\n",
       "<td>0.0</td>\n",
       "<td>0.0</td>\n",
       "<td>0.0</td>\n",
       "<td>0.0457502</td>\n",
       "<td>0.0563786</td>\n",
       "<td>0.0</td>\n",
       "<td>0.0527649</td>\n",
       "<td>1.0594201</td>\n",
       "<td>0.1674234</td>\n",
       "<td>0.7475984</td></tr>\n",
       "<tr><td></td>\n",
       "<td>5</td>\n",
       "<td>1</td>\n",
       "<td>Linear</td>\n",
       "<td></td>\n",
       "<td>0.0</td>\n",
       "<td>0.0</td>\n",
       "<td>0.0128917</td>\n",
       "<td>0.0017521</td>\n",
       "<td>0.0</td>\n",
       "<td>-0.1443929</td>\n",
       "<td>0.7841678</td>\n",
       "<td>0.5695512</td>\n",
       "<td>0.0000000</td></tr></table></div>"
      ],
      "text/plain": [
       "    layer    units    type    dropout    l1    l2    mean_rate        rate_rms          momentum    mean_weight      weight_rms      mean_bias         bias_rms\n",
       "--  -------  -------  ------  ---------  ----  ----  ---------------  ----------------  ----------  ---------------  --------------  ----------------  ------------------\n",
       "    1        9        Input   0.0\n",
       "    2        10       Tanh    0.0        0.0   0.0   0.0148955904516  0.011947941035    0.0         -0.150266048504  0.997275114059  -0.0811749791917  0.443055510521\n",
       "    3        10       Tanh    0.0        0.0   0.0   0.0257020514878  0.0222129970789   0.0         0.0735521029681  0.962240934372  0.24734656643     0.609624385834\n",
       "    4        10       Tanh    0.0        0.0   0.0   0.0457501726132  0.0563785880804   0.0         0.0527649010811  1.0594201088    0.16742341173     0.747598409653\n",
       "    5        1        Linear             0.0   0.0   0.0128917031456  0.00175205199048  0.0         -0.144392886758  0.784167766571  0.569551239175    1.09712811257e-154"
      ]
     },
     "metadata": {},
     "output_type": "display_data"
    },
    {
     "name": "stdout",
     "output_type": "stream",
     "text": [
      "\n",
      "\n",
      "ModelMetricsRegression: deeplearning\n",
      "** Reported on train data. **\n",
      "\n",
      "MSE: 0.00711118908393\n",
      "RMSE: 0.0843278665918\n",
      "MAE: 0.0588162163393\n",
      "RMSLE: 0.030177103358\n",
      "Mean Residual Deviance: 0.00711118908393\n",
      "Scoring History: \n"
     ]
    },
    {
     "data": {
      "text/html": [
       "<div style=\"overflow:auto\"><table style=\"width:50%\"><tr><td><b></b></td>\n",
       "<td><b>timestamp</b></td>\n",
       "<td><b>duration</b></td>\n",
       "<td><b>training_speed</b></td>\n",
       "<td><b>epochs</b></td>\n",
       "<td><b>iterations</b></td>\n",
       "<td><b>samples</b></td>\n",
       "<td><b>training_rmse</b></td>\n",
       "<td><b>training_deviance</b></td>\n",
       "<td><b>training_mae</b></td></tr>\n",
       "<tr><td></td>\n",
       "<td>2017-08-19 23:48:52</td>\n",
       "<td> 0.000 sec</td>\n",
       "<td>None</td>\n",
       "<td>0.0</td>\n",
       "<td>0</td>\n",
       "<td>0.0</td>\n",
       "<td>nan</td>\n",
       "<td>nan</td>\n",
       "<td>nan</td></tr>\n",
       "<tr><td></td>\n",
       "<td>2017-08-19 23:48:52</td>\n",
       "<td> 0.038 sec</td>\n",
       "<td>93043 obs/sec</td>\n",
       "<td>10.0</td>\n",
       "<td>1</td>\n",
       "<td>2140.0</td>\n",
       "<td>1.1392614</td>\n",
       "<td>1.2979166</td>\n",
       "<td>0.7769297</td></tr>\n",
       "<tr><td></td>\n",
       "<td>2017-08-19 23:48:57</td>\n",
       "<td> 5.039 sec</td>\n",
       "<td>244169 obs/sec</td>\n",
       "<td>5730.0</td>\n",
       "<td>573</td>\n",
       "<td>1226220.0</td>\n",
       "<td>0.3207674</td>\n",
       "<td>0.1028918</td>\n",
       "<td>0.1808655</td></tr>\n",
       "<tr><td></td>\n",
       "<td>2017-08-19 23:49:02</td>\n",
       "<td> 9.655 sec</td>\n",
       "<td>222083 obs/sec</td>\n",
       "<td>10000.0</td>\n",
       "<td>1000</td>\n",
       "<td>2140000.0</td>\n",
       "<td>0.0843279</td>\n",
       "<td>0.0071112</td>\n",
       "<td>0.0588162</td></tr></table></div>"
      ],
      "text/plain": [
       "    timestamp            duration    training_speed    epochs    iterations    samples      training_rmse    training_deviance    training_mae\n",
       "--  -------------------  ----------  ----------------  --------  ------------  -----------  ---------------  -------------------  --------------\n",
       "    2017-08-19 23:48:52  0.000 sec                     0         0             0            nan              nan                  nan\n",
       "    2017-08-19 23:48:52  0.038 sec   93043 obs/sec     10        1             2140         1.13926          1.29792              0.77693\n",
       "    2017-08-19 23:48:57  5.039 sec   244169 obs/sec    5730      573           1.22622e+06  0.320767         0.102892             0.180866\n",
       "    2017-08-19 23:49:02  9.655 sec   222083 obs/sec    10000     1000          2.14e+06     0.0843279        0.00711119           0.0588162"
      ]
     },
     "metadata": {},
     "output_type": "display_data"
    }
   ],
   "source": [
    "model2.show()"
   ]
  },
  {
   "cell_type": "code",
   "execution_count": 52,
   "metadata": {},
   "outputs": [
    {
     "data": {
      "text/plain": [
       "0.007111189083925263"
      ]
     },
     "execution_count": 52,
     "metadata": {},
     "output_type": "execute_result"
    }
   ],
   "source": [
    "model2.mse()"
   ]
  },
  {
   "cell_type": "code",
   "execution_count": null,
   "metadata": {
    "collapsed": true
   },
   "outputs": [],
   "source": []
  },
  {
   "cell_type": "markdown",
   "metadata": {},
   "source": [
    "# More Complex Learning Task\n",
    "## Bigger data set\n",
    "## Identify importnat variables"
   ]
  },
  {
   "cell_type": "code",
   "execution_count": 29,
   "metadata": {},
   "outputs": [
    {
     "name": "stdout",
     "output_type": "stream",
     "text": [
      "Parse progress: |█████████████████████████████████████████████████████████| 100%\n"
     ]
    }
   ],
   "source": [
    "covtype_df=h2o.import_file(path=\"F:\\Python_ML\\Course6_Python4DS\\MLData_n_Script\\section11\\coverT.csv\")"
   ]
  },
  {
   "cell_type": "code",
   "execution_count": 30,
   "metadata": {},
   "outputs": [
    {
     "data": {
      "text/html": [
       "<table>\n",
       "<tr><th style=\"text-align: right;\">  V1</th><th style=\"text-align: right;\">  V2</th><th style=\"text-align: right;\">  V3</th><th style=\"text-align: right;\">  V4</th><th style=\"text-align: right;\">  V5</th><th style=\"text-align: right;\">  V6</th><th style=\"text-align: right;\">  V7</th><th style=\"text-align: right;\">  V8</th><th style=\"text-align: right;\">  V9</th><th style=\"text-align: right;\">  V10</th><th style=\"text-align: right;\">  V11</th><th style=\"text-align: right;\">  V12</th><th style=\"text-align: right;\">  V13</th><th style=\"text-align: right;\">  V14</th><th style=\"text-align: right;\">  V15</th><th style=\"text-align: right;\">  V16</th><th style=\"text-align: right;\">  V17</th><th style=\"text-align: right;\">  V18</th><th style=\"text-align: right;\">  V19</th><th style=\"text-align: right;\">  V20</th><th style=\"text-align: right;\">  V21</th><th style=\"text-align: right;\">  V22</th><th style=\"text-align: right;\">  V23</th><th style=\"text-align: right;\">  V24</th><th style=\"text-align: right;\">  V25</th><th style=\"text-align: right;\">  V26</th><th style=\"text-align: right;\">  V27</th><th style=\"text-align: right;\">  V28</th><th style=\"text-align: right;\">  V29</th><th style=\"text-align: right;\">  V30</th><th style=\"text-align: right;\">  V31</th><th style=\"text-align: right;\">  V32</th><th style=\"text-align: right;\">  V33</th><th style=\"text-align: right;\">  V34</th><th style=\"text-align: right;\">  V35</th><th style=\"text-align: right;\">  V36</th><th style=\"text-align: right;\">  V37</th><th style=\"text-align: right;\">  V38</th><th style=\"text-align: right;\">  V39</th><th style=\"text-align: right;\">  V40</th><th style=\"text-align: right;\">  V41</th><th style=\"text-align: right;\">  V42</th><th style=\"text-align: right;\">  V43</th><th style=\"text-align: right;\">  V44</th><th style=\"text-align: right;\">  V45</th><th style=\"text-align: right;\">  V46</th><th style=\"text-align: right;\">  V47</th><th style=\"text-align: right;\">  V48</th><th style=\"text-align: right;\">  V49</th><th style=\"text-align: right;\">  V50</th><th style=\"text-align: right;\">  V51</th><th style=\"text-align: right;\">  V52</th><th style=\"text-align: right;\">  V53</th><th style=\"text-align: right;\">  V54</th><th style=\"text-align: right;\">  Cover</th></tr>\n",
       "<tr><td style=\"text-align: right;\">2596</td><td style=\"text-align: right;\">  51</td><td style=\"text-align: right;\">   3</td><td style=\"text-align: right;\"> 258</td><td style=\"text-align: right;\">   0</td><td style=\"text-align: right;\"> 510</td><td style=\"text-align: right;\"> 221</td><td style=\"text-align: right;\"> 232</td><td style=\"text-align: right;\"> 148</td><td style=\"text-align: right;\"> 6279</td><td style=\"text-align: right;\">    1</td><td style=\"text-align: right;\">    0</td><td style=\"text-align: right;\">    0</td><td style=\"text-align: right;\">    0</td><td style=\"text-align: right;\">    0</td><td style=\"text-align: right;\">    0</td><td style=\"text-align: right;\">    0</td><td style=\"text-align: right;\">    0</td><td style=\"text-align: right;\">    0</td><td style=\"text-align: right;\">    0</td><td style=\"text-align: right;\">    0</td><td style=\"text-align: right;\">    0</td><td style=\"text-align: right;\">    0</td><td style=\"text-align: right;\">    0</td><td style=\"text-align: right;\">    0</td><td style=\"text-align: right;\">    0</td><td style=\"text-align: right;\">    0</td><td style=\"text-align: right;\">    0</td><td style=\"text-align: right;\">    0</td><td style=\"text-align: right;\">    0</td><td style=\"text-align: right;\">    0</td><td style=\"text-align: right;\">    0</td><td style=\"text-align: right;\">    0</td><td style=\"text-align: right;\">    0</td><td style=\"text-align: right;\">    0</td><td style=\"text-align: right;\">    0</td><td style=\"text-align: right;\">    0</td><td style=\"text-align: right;\">    0</td><td style=\"text-align: right;\">    0</td><td style=\"text-align: right;\">    0</td><td style=\"text-align: right;\">    0</td><td style=\"text-align: right;\">    0</td><td style=\"text-align: right;\">    1</td><td style=\"text-align: right;\">    0</td><td style=\"text-align: right;\">    0</td><td style=\"text-align: right;\">    0</td><td style=\"text-align: right;\">    0</td><td style=\"text-align: right;\">    0</td><td style=\"text-align: right;\">    0</td><td style=\"text-align: right;\">    0</td><td style=\"text-align: right;\">    0</td><td style=\"text-align: right;\">    0</td><td style=\"text-align: right;\">    0</td><td style=\"text-align: right;\">    0</td><td style=\"text-align: right;\">      5</td></tr>\n",
       "<tr><td style=\"text-align: right;\">2590</td><td style=\"text-align: right;\">  56</td><td style=\"text-align: right;\">   2</td><td style=\"text-align: right;\"> 212</td><td style=\"text-align: right;\">  -6</td><td style=\"text-align: right;\"> 390</td><td style=\"text-align: right;\"> 220</td><td style=\"text-align: right;\"> 235</td><td style=\"text-align: right;\"> 151</td><td style=\"text-align: right;\"> 6225</td><td style=\"text-align: right;\">    1</td><td style=\"text-align: right;\">    0</td><td style=\"text-align: right;\">    0</td><td style=\"text-align: right;\">    0</td><td style=\"text-align: right;\">    0</td><td style=\"text-align: right;\">    0</td><td style=\"text-align: right;\">    0</td><td style=\"text-align: right;\">    0</td><td style=\"text-align: right;\">    0</td><td style=\"text-align: right;\">    0</td><td style=\"text-align: right;\">    0</td><td style=\"text-align: right;\">    0</td><td style=\"text-align: right;\">    0</td><td style=\"text-align: right;\">    0</td><td style=\"text-align: right;\">    0</td><td style=\"text-align: right;\">    0</td><td style=\"text-align: right;\">    0</td><td style=\"text-align: right;\">    0</td><td style=\"text-align: right;\">    0</td><td style=\"text-align: right;\">    0</td><td style=\"text-align: right;\">    0</td><td style=\"text-align: right;\">    0</td><td style=\"text-align: right;\">    0</td><td style=\"text-align: right;\">    0</td><td style=\"text-align: right;\">    0</td><td style=\"text-align: right;\">    0</td><td style=\"text-align: right;\">    0</td><td style=\"text-align: right;\">    0</td><td style=\"text-align: right;\">    0</td><td style=\"text-align: right;\">    0</td><td style=\"text-align: right;\">    0</td><td style=\"text-align: right;\">    0</td><td style=\"text-align: right;\">    1</td><td style=\"text-align: right;\">    0</td><td style=\"text-align: right;\">    0</td><td style=\"text-align: right;\">    0</td><td style=\"text-align: right;\">    0</td><td style=\"text-align: right;\">    0</td><td style=\"text-align: right;\">    0</td><td style=\"text-align: right;\">    0</td><td style=\"text-align: right;\">    0</td><td style=\"text-align: right;\">    0</td><td style=\"text-align: right;\">    0</td><td style=\"text-align: right;\">    0</td><td style=\"text-align: right;\">      5</td></tr>\n",
       "<tr><td style=\"text-align: right;\">2804</td><td style=\"text-align: right;\"> 139</td><td style=\"text-align: right;\">   9</td><td style=\"text-align: right;\"> 268</td><td style=\"text-align: right;\">  65</td><td style=\"text-align: right;\">3180</td><td style=\"text-align: right;\"> 234</td><td style=\"text-align: right;\"> 238</td><td style=\"text-align: right;\"> 135</td><td style=\"text-align: right;\"> 6121</td><td style=\"text-align: right;\">    1</td><td style=\"text-align: right;\">    0</td><td style=\"text-align: right;\">    0</td><td style=\"text-align: right;\">    0</td><td style=\"text-align: right;\">    0</td><td style=\"text-align: right;\">    0</td><td style=\"text-align: right;\">    0</td><td style=\"text-align: right;\">    0</td><td style=\"text-align: right;\">    0</td><td style=\"text-align: right;\">    0</td><td style=\"text-align: right;\">    0</td><td style=\"text-align: right;\">    0</td><td style=\"text-align: right;\">    0</td><td style=\"text-align: right;\">    0</td><td style=\"text-align: right;\">    0</td><td style=\"text-align: right;\">    1</td><td style=\"text-align: right;\">    0</td><td style=\"text-align: right;\">    0</td><td style=\"text-align: right;\">    0</td><td style=\"text-align: right;\">    0</td><td style=\"text-align: right;\">    0</td><td style=\"text-align: right;\">    0</td><td style=\"text-align: right;\">    0</td><td style=\"text-align: right;\">    0</td><td style=\"text-align: right;\">    0</td><td style=\"text-align: right;\">    0</td><td style=\"text-align: right;\">    0</td><td style=\"text-align: right;\">    0</td><td style=\"text-align: right;\">    0</td><td style=\"text-align: right;\">    0</td><td style=\"text-align: right;\">    0</td><td style=\"text-align: right;\">    0</td><td style=\"text-align: right;\">    0</td><td style=\"text-align: right;\">    0</td><td style=\"text-align: right;\">    0</td><td style=\"text-align: right;\">    0</td><td style=\"text-align: right;\">    0</td><td style=\"text-align: right;\">    0</td><td style=\"text-align: right;\">    0</td><td style=\"text-align: right;\">    0</td><td style=\"text-align: right;\">    0</td><td style=\"text-align: right;\">    0</td><td style=\"text-align: right;\">    0</td><td style=\"text-align: right;\">    0</td><td style=\"text-align: right;\">      2</td></tr>\n",
       "<tr><td style=\"text-align: right;\">2785</td><td style=\"text-align: right;\"> 155</td><td style=\"text-align: right;\">  18</td><td style=\"text-align: right;\"> 242</td><td style=\"text-align: right;\"> 118</td><td style=\"text-align: right;\">3090</td><td style=\"text-align: right;\"> 238</td><td style=\"text-align: right;\"> 238</td><td style=\"text-align: right;\"> 122</td><td style=\"text-align: right;\"> 6211</td><td style=\"text-align: right;\">    1</td><td style=\"text-align: right;\">    0</td><td style=\"text-align: right;\">    0</td><td style=\"text-align: right;\">    0</td><td style=\"text-align: right;\">    0</td><td style=\"text-align: right;\">    0</td><td style=\"text-align: right;\">    0</td><td style=\"text-align: right;\">    0</td><td style=\"text-align: right;\">    0</td><td style=\"text-align: right;\">    0</td><td style=\"text-align: right;\">    0</td><td style=\"text-align: right;\">    0</td><td style=\"text-align: right;\">    0</td><td style=\"text-align: right;\">    0</td><td style=\"text-align: right;\">    0</td><td style=\"text-align: right;\">    0</td><td style=\"text-align: right;\">    0</td><td style=\"text-align: right;\">    0</td><td style=\"text-align: right;\">    0</td><td style=\"text-align: right;\">    0</td><td style=\"text-align: right;\">    0</td><td style=\"text-align: right;\">    0</td><td style=\"text-align: right;\">    0</td><td style=\"text-align: right;\">    0</td><td style=\"text-align: right;\">    0</td><td style=\"text-align: right;\">    0</td><td style=\"text-align: right;\">    0</td><td style=\"text-align: right;\">    0</td><td style=\"text-align: right;\">    0</td><td style=\"text-align: right;\">    0</td><td style=\"text-align: right;\">    0</td><td style=\"text-align: right;\">    0</td><td style=\"text-align: right;\">    0</td><td style=\"text-align: right;\">    1</td><td style=\"text-align: right;\">    0</td><td style=\"text-align: right;\">    0</td><td style=\"text-align: right;\">    0</td><td style=\"text-align: right;\">    0</td><td style=\"text-align: right;\">    0</td><td style=\"text-align: right;\">    0</td><td style=\"text-align: right;\">    0</td><td style=\"text-align: right;\">    0</td><td style=\"text-align: right;\">    0</td><td style=\"text-align: right;\">    0</td><td style=\"text-align: right;\">      2</td></tr>\n",
       "<tr><td style=\"text-align: right;\">2595</td><td style=\"text-align: right;\">  45</td><td style=\"text-align: right;\">   2</td><td style=\"text-align: right;\"> 153</td><td style=\"text-align: right;\">  -1</td><td style=\"text-align: right;\"> 391</td><td style=\"text-align: right;\"> 220</td><td style=\"text-align: right;\"> 234</td><td style=\"text-align: right;\"> 150</td><td style=\"text-align: right;\"> 6172</td><td style=\"text-align: right;\">    1</td><td style=\"text-align: right;\">    0</td><td style=\"text-align: right;\">    0</td><td style=\"text-align: right;\">    0</td><td style=\"text-align: right;\">    0</td><td style=\"text-align: right;\">    0</td><td style=\"text-align: right;\">    0</td><td style=\"text-align: right;\">    0</td><td style=\"text-align: right;\">    0</td><td style=\"text-align: right;\">    0</td><td style=\"text-align: right;\">    0</td><td style=\"text-align: right;\">    0</td><td style=\"text-align: right;\">    0</td><td style=\"text-align: right;\">    0</td><td style=\"text-align: right;\">    0</td><td style=\"text-align: right;\">    0</td><td style=\"text-align: right;\">    0</td><td style=\"text-align: right;\">    0</td><td style=\"text-align: right;\">    0</td><td style=\"text-align: right;\">    0</td><td style=\"text-align: right;\">    0</td><td style=\"text-align: right;\">    0</td><td style=\"text-align: right;\">    0</td><td style=\"text-align: right;\">    0</td><td style=\"text-align: right;\">    0</td><td style=\"text-align: right;\">    0</td><td style=\"text-align: right;\">    0</td><td style=\"text-align: right;\">    0</td><td style=\"text-align: right;\">    0</td><td style=\"text-align: right;\">    0</td><td style=\"text-align: right;\">    0</td><td style=\"text-align: right;\">    0</td><td style=\"text-align: right;\">    1</td><td style=\"text-align: right;\">    0</td><td style=\"text-align: right;\">    0</td><td style=\"text-align: right;\">    0</td><td style=\"text-align: right;\">    0</td><td style=\"text-align: right;\">    0</td><td style=\"text-align: right;\">    0</td><td style=\"text-align: right;\">    0</td><td style=\"text-align: right;\">    0</td><td style=\"text-align: right;\">    0</td><td style=\"text-align: right;\">    0</td><td style=\"text-align: right;\">    0</td><td style=\"text-align: right;\">      5</td></tr>\n",
       "</table>"
      ]
     },
     "metadata": {},
     "output_type": "display_data"
    },
    {
     "data": {
      "text/plain": []
     },
     "execution_count": 30,
     "metadata": {},
     "output_type": "execute_result"
    }
   ],
   "source": [
    "covtype_df.head(5)"
   ]
  },
  {
   "cell_type": "code",
   "execution_count": 31,
   "metadata": {
    "collapsed": true
   },
   "outputs": [],
   "source": [
    "#split the data \n",
    "train, valid, test = covtype_df.split_frame([0.6, 0.2], seed=123)"
   ]
  },
  {
   "cell_type": "code",
   "execution_count": 32,
   "metadata": {
    "collapsed": true
   },
   "outputs": [],
   "source": [
    "#Prepare predictors and response columns\n",
    "covtype_X = covtype_df.col_names[:-1]     #last column is cover \n",
    "covtype_y = covtype_df.col_names[-1]"
   ]
  },
  {
   "cell_type": "code",
   "execution_count": 33,
   "metadata": {},
   "outputs": [
    {
     "name": "stdout",
     "output_type": "stream",
     "text": [
      "deeplearning Model Build progress: |██████████████████████████████████████| 100%\n",
      "Model Details\n",
      "=============\n",
      "H2ODeepLearningEstimator :  Deep Learning\n",
      "Model Key:  covtype_v1\n",
      "Status of Neuron Layers: predicting Cover, regression, gaussian distribution, Quadratic loss, 51,401 weights/biases, 626.0 KB, 384,219 training samples, mini-batch size 1\n",
      "\n"
     ]
    },
    {
     "data": {
      "text/html": [
       "<div style=\"overflow:auto\"><table style=\"width:50%\"><tr><td><b></b></td>\n",
       "<td><b>layer</b></td>\n",
       "<td><b>units</b></td>\n",
       "<td><b>type</b></td>\n",
       "<td><b>dropout</b></td>\n",
       "<td><b>l1</b></td>\n",
       "<td><b>l2</b></td>\n",
       "<td><b>mean_rate</b></td>\n",
       "<td><b>rate_rms</b></td>\n",
       "<td><b>momentum</b></td>\n",
       "<td><b>mean_weight</b></td>\n",
       "<td><b>weight_rms</b></td>\n",
       "<td><b>mean_bias</b></td>\n",
       "<td><b>bias_rms</b></td></tr>\n",
       "<tr><td></td>\n",
       "<td>1</td>\n",
       "<td>54</td>\n",
       "<td>Input</td>\n",
       "<td>0.0</td>\n",
       "<td></td>\n",
       "<td></td>\n",
       "<td></td>\n",
       "<td></td>\n",
       "<td></td>\n",
       "<td></td>\n",
       "<td></td>\n",
       "<td></td>\n",
       "<td></td></tr>\n",
       "<tr><td></td>\n",
       "<td>2</td>\n",
       "<td>200</td>\n",
       "<td>Rectifier</td>\n",
       "<td>0.0</td>\n",
       "<td>0.0</td>\n",
       "<td>0.0</td>\n",
       "<td>0.0505009</td>\n",
       "<td>0.1287224</td>\n",
       "<td>0.0</td>\n",
       "<td>0.0291923</td>\n",
       "<td>0.1804647</td>\n",
       "<td>0.3971087</td>\n",
       "<td>0.0876019</td></tr>\n",
       "<tr><td></td>\n",
       "<td>3</td>\n",
       "<td>200</td>\n",
       "<td>Rectifier</td>\n",
       "<td>0.0</td>\n",
       "<td>0.0</td>\n",
       "<td>0.0</td>\n",
       "<td>0.0275126</td>\n",
       "<td>0.0497159</td>\n",
       "<td>0.0</td>\n",
       "<td>-0.0273614</td>\n",
       "<td>0.0893136</td>\n",
       "<td>0.9254150</td>\n",
       "<td>0.0511126</td></tr>\n",
       "<tr><td></td>\n",
       "<td>4</td>\n",
       "<td>1</td>\n",
       "<td>Linear</td>\n",
       "<td></td>\n",
       "<td>0.0</td>\n",
       "<td>0.0</td>\n",
       "<td>0.0003882</td>\n",
       "<td>0.0002932</td>\n",
       "<td>0.0</td>\n",
       "<td>0.0182933</td>\n",
       "<td>0.0974570</td>\n",
       "<td>1.0237084</td>\n",
       "<td>0.0000000</td></tr></table></div>"
      ],
      "text/plain": [
       "    layer    units    type       dropout    l1    l2    mean_rate          rate_rms           momentum    mean_weight       weight_rms       mean_bias       bias_rms\n",
       "--  -------  -------  ---------  ---------  ----  ----  -----------------  -----------------  ----------  ----------------  ---------------  --------------  ------------------\n",
       "    1        54       Input      0.0\n",
       "    2        200      Rectifier  0.0        0.0   0.0   0.0505008509034    0.128722429276     0.0         0.0291923017866   0.180464744568   0.397108734178  0.087601929903\n",
       "    3        200      Rectifier  0.0        0.0   0.0   0.0275125556735    0.0497159212828    0.0         -0.0273614461446  0.0893136262894  0.925415023448  0.0511125922203\n",
       "    4        1        Linear                0.0   0.0   0.000388195692212  0.000293184653856  0.0         0.0182933285349   0.0974570214748  1.02370837087   1.09712811257e-154"
      ]
     },
     "metadata": {},
     "output_type": "display_data"
    },
    {
     "name": "stdout",
     "output_type": "stream",
     "text": [
      "\n",
      "\n",
      "ModelMetricsRegression: deeplearning\n",
      "** Reported on train data. **\n",
      "\n",
      "MSE: 0.941022256141\n",
      "RMSE: 0.970063016583\n",
      "MAE: 0.605323461646\n",
      "RMSLE: 0.258491225592\n",
      "Mean Residual Deviance: 0.941022256141\n",
      "\n",
      "ModelMetricsRegression: deeplearning\n",
      "** Reported on validation data. **\n",
      "\n",
      "MSE: 0.965307603364\n",
      "RMSE: 0.982500688735\n",
      "MAE: 0.615797903578\n",
      "RMSLE: NaN\n",
      "Mean Residual Deviance: 0.965307603364\n",
      "Scoring History: \n"
     ]
    },
    {
     "data": {
      "text/html": [
       "<div style=\"overflow:auto\"><table style=\"width:50%\"><tr><td><b></b></td>\n",
       "<td><b>timestamp</b></td>\n",
       "<td><b>duration</b></td>\n",
       "<td><b>training_speed</b></td>\n",
       "<td><b>epochs</b></td>\n",
       "<td><b>iterations</b></td>\n",
       "<td><b>samples</b></td>\n",
       "<td><b>training_rmse</b></td>\n",
       "<td><b>training_deviance</b></td>\n",
       "<td><b>training_mae</b></td>\n",
       "<td><b>validation_rmse</b></td>\n",
       "<td><b>validation_deviance</b></td>\n",
       "<td><b>validation_mae</b></td></tr>\n",
       "<tr><td></td>\n",
       "<td>2017-08-19 23:30:36</td>\n",
       "<td> 0.000 sec</td>\n",
       "<td>None</td>\n",
       "<td>0.0</td>\n",
       "<td>0</td>\n",
       "<td>0.0</td>\n",
       "<td>nan</td>\n",
       "<td>nan</td>\n",
       "<td>nan</td>\n",
       "<td>nan</td>\n",
       "<td>nan</td>\n",
       "<td>nan</td></tr>\n",
       "<tr><td></td>\n",
       "<td>2017-08-19 23:30:40</td>\n",
       "<td> 5.806 sec</td>\n",
       "<td>10029 obs/sec</td>\n",
       "<td>0.0998264</td>\n",
       "<td>1</td>\n",
       "<td>34841.0</td>\n",
       "<td>1.1567227</td>\n",
       "<td>1.3380075</td>\n",
       "<td>0.7220215</td>\n",
       "<td>1.1544235</td>\n",
       "<td>1.3326936</td>\n",
       "<td>0.7232171</td></tr>\n",
       "<tr><td></td>\n",
       "<td>2017-08-19 23:31:02</td>\n",
       "<td>27.785 sec</td>\n",
       "<td>13410 obs/sec</td>\n",
       "<td>0.9002395</td>\n",
       "<td>9</td>\n",
       "<td>314198.0</td>\n",
       "<td>0.9700630</td>\n",
       "<td>0.9410223</td>\n",
       "<td>0.6053235</td>\n",
       "<td>0.9825007</td>\n",
       "<td>0.9653076</td>\n",
       "<td>0.6157979</td></tr>\n",
       "<tr><td></td>\n",
       "<td>2017-08-19 23:31:08</td>\n",
       "<td>34.209 sec</td>\n",
       "<td>13798 obs/sec</td>\n",
       "<td>1.1008636</td>\n",
       "<td>11</td>\n",
       "<td>384219.0</td>\n",
       "<td>1.0321794</td>\n",
       "<td>1.0653943</td>\n",
       "<td>0.6739206</td>\n",
       "<td>1.0341296</td>\n",
       "<td>1.0694240</td>\n",
       "<td>0.6791472</td></tr>\n",
       "<tr><td></td>\n",
       "<td>2017-08-19 23:31:11</td>\n",
       "<td>36.230 sec</td>\n",
       "<td>13795 obs/sec</td>\n",
       "<td>1.1008636</td>\n",
       "<td>11</td>\n",
       "<td>384219.0</td>\n",
       "<td>0.9700630</td>\n",
       "<td>0.9410223</td>\n",
       "<td>0.6053235</td>\n",
       "<td>0.9825007</td>\n",
       "<td>0.9653076</td>\n",
       "<td>0.6157979</td></tr></table></div>"
      ],
      "text/plain": [
       "    timestamp            duration    training_speed    epochs     iterations    samples    training_rmse    training_deviance    training_mae    validation_rmse    validation_deviance    validation_mae\n",
       "--  -------------------  ----------  ----------------  ---------  ------------  ---------  ---------------  -------------------  --------------  -----------------  ---------------------  ----------------\n",
       "    2017-08-19 23:30:36  0.000 sec                     0          0             0          nan              nan                  nan             nan                nan                    nan\n",
       "    2017-08-19 23:30:40  5.806 sec   10029 obs/sec     0.0998264  1             34841      1.15672          1.33801              0.722021        1.15442            1.33269                0.723217\n",
       "    2017-08-19 23:31:02  27.785 sec  13410 obs/sec     0.90024    9             314198     0.970063         0.941022             0.605323        0.982501           0.965308               0.615798\n",
       "    2017-08-19 23:31:08  34.209 sec  13798 obs/sec     1.10086    11            384219     1.03218          1.06539              0.673921        1.03413            1.06942                0.679147\n",
       "    2017-08-19 23:31:11  36.230 sec  13795 obs/sec     1.10086    11            384219     0.970063         0.941022             0.605323        0.982501           0.965308               0.615798"
      ]
     },
     "metadata": {},
     "output_type": "display_data"
    },
    {
     "name": "stdout",
     "output_type": "stream",
     "text": [
      "Variable Importances: \n"
     ]
    },
    {
     "data": {
      "text/html": [
       "<div style=\"overflow:auto\"><table style=\"width:50%\"><tr><td><b>variable</b></td>\n",
       "<td><b>relative_importance</b></td>\n",
       "<td><b>scaled_importance</b></td>\n",
       "<td><b>percentage</b></td></tr>\n",
       "<tr><td>V10</td>\n",
       "<td>1.0</td>\n",
       "<td>1.0</td>\n",
       "<td>0.0359162</td></tr>\n",
       "<tr><td>V1</td>\n",
       "<td>0.9871644</td>\n",
       "<td>0.9871644</td>\n",
       "<td>0.0354552</td></tr>\n",
       "<tr><td>V6</td>\n",
       "<td>0.9712550</td>\n",
       "<td>0.9712550</td>\n",
       "<td>0.0348838</td></tr>\n",
       "<tr><td>V37</td>\n",
       "<td>0.8836563</td>\n",
       "<td>0.8836563</td>\n",
       "<td>0.0317376</td></tr>\n",
       "<tr><td>V46</td>\n",
       "<td>0.8765415</td>\n",
       "<td>0.8765415</td>\n",
       "<td>0.0314820</td></tr>\n",
       "<tr><td>---</td>\n",
       "<td>---</td>\n",
       "<td>---</td>\n",
       "<td>---</td></tr>\n",
       "<tr><td>V29</td>\n",
       "<td>0.3220695</td>\n",
       "<td>0.3220695</td>\n",
       "<td>0.0115675</td></tr>\n",
       "<tr><td>V49</td>\n",
       "<td>0.3215938</td>\n",
       "<td>0.3215938</td>\n",
       "<td>0.0115504</td></tr>\n",
       "<tr><td>V31</td>\n",
       "<td>0.3147327</td>\n",
       "<td>0.3147327</td>\n",
       "<td>0.0113040</td></tr>\n",
       "<tr><td>V30</td>\n",
       "<td>0.3142218</td>\n",
       "<td>0.3142218</td>\n",
       "<td>0.0112856</td></tr>\n",
       "<tr><td>V2</td>\n",
       "<td>0.2792981</td>\n",
       "<td>0.2792981</td>\n",
       "<td>0.0100313</td></tr></table></div>"
      ],
      "text/plain": [
       "variable    relative_importance    scaled_importance    percentage\n",
       "----------  ---------------------  -------------------  ---------------\n",
       "V10         1.0                    1.0                  0.0359161857348\n",
       "V1          0.987164378166         0.987164378166       0.035455179157\n",
       "V6          0.971255004406         0.971255004406       0.0348837751341\n",
       "V37         0.883656322956         0.883656322956       0.031737564621\n",
       "V46         0.876541495323         0.876541495323       0.0314820271503\n",
       "---         ---                    ---                  ---\n",
       "V29         0.322069525719         0.322069525719       0.0115675089052\n",
       "V49         0.321593821049         0.321593821049       0.0115504234079\n",
       "V31         0.314732730389         0.314732730389       0.0113039992014\n",
       "V30         0.314221799374         0.314221799374       0.0112856485082\n",
       "V2          0.279298096895         0.279298096895       0.0100313223235"
      ]
     },
     "metadata": {},
     "output_type": "display_data"
    },
    {
     "name": "stdout",
     "output_type": "stream",
     "text": [
      "\n",
      "See the whole table with table.as_data_frame()\n",
      "\n"
     ]
    }
   ],
   "source": [
    "#set the model_id for easy lookup in Flow\n",
    "covtype_model_v1 = H2ODeepLearningEstimator(model_id=\"covtype_v1\", epochs=1, variable_importances=True) #identify the important variables\n",
    "covtype_model_v1.train(covtype_X, covtype_y, training_frame = train, validation_frame = valid)\n",
    "print covtype_model_v1"
   ]
  },
  {
   "cell_type": "code",
   "execution_count": null,
   "metadata": {
    "collapsed": true
   },
   "outputs": [],
   "source": [
    "#variable importances"
   ]
  },
  {
   "cell_type": "code",
   "execution_count": 35,
   "metadata": {
    "collapsed": true
   },
   "outputs": [],
   "source": [
    "import pandas as pd"
   ]
  },
  {
   "cell_type": "code",
   "execution_count": 36,
   "metadata": {},
   "outputs": [
    {
     "name": "stdout",
     "output_type": "stream",
     "text": [
      "(54, 4)\n"
     ]
    },
    {
     "data": {
      "text/html": [
       "<div>\n",
       "<style>\n",
       "    .dataframe thead tr:only-child th {\n",
       "        text-align: right;\n",
       "    }\n",
       "\n",
       "    .dataframe thead th {\n",
       "        text-align: left;\n",
       "    }\n",
       "\n",
       "    .dataframe tbody tr th {\n",
       "        vertical-align: top;\n",
       "    }\n",
       "</style>\n",
       "<table border=\"1\" class=\"dataframe\">\n",
       "  <thead>\n",
       "    <tr style=\"text-align: right;\">\n",
       "      <th></th>\n",
       "      <th>Variable</th>\n",
       "      <th>Relative Importance</th>\n",
       "      <th>Scaled Importance</th>\n",
       "      <th>Percentage</th>\n",
       "    </tr>\n",
       "  </thead>\n",
       "  <tbody>\n",
       "    <tr>\n",
       "      <th>0</th>\n",
       "      <td>V10</td>\n",
       "      <td>1.000000</td>\n",
       "      <td>1.000000</td>\n",
       "      <td>0.035916</td>\n",
       "    </tr>\n",
       "    <tr>\n",
       "      <th>1</th>\n",
       "      <td>V1</td>\n",
       "      <td>0.987164</td>\n",
       "      <td>0.987164</td>\n",
       "      <td>0.035455</td>\n",
       "    </tr>\n",
       "    <tr>\n",
       "      <th>2</th>\n",
       "      <td>V6</td>\n",
       "      <td>0.971255</td>\n",
       "      <td>0.971255</td>\n",
       "      <td>0.034884</td>\n",
       "    </tr>\n",
       "    <tr>\n",
       "      <th>3</th>\n",
       "      <td>V37</td>\n",
       "      <td>0.883656</td>\n",
       "      <td>0.883656</td>\n",
       "      <td>0.031738</td>\n",
       "    </tr>\n",
       "    <tr>\n",
       "      <th>4</th>\n",
       "      <td>V46</td>\n",
       "      <td>0.876541</td>\n",
       "      <td>0.876541</td>\n",
       "      <td>0.031482</td>\n",
       "    </tr>\n",
       "    <tr>\n",
       "      <th>5</th>\n",
       "      <td>V47</td>\n",
       "      <td>0.838110</td>\n",
       "      <td>0.838110</td>\n",
       "      <td>0.030102</td>\n",
       "    </tr>\n",
       "    <tr>\n",
       "      <th>6</th>\n",
       "      <td>V43</td>\n",
       "      <td>0.816058</td>\n",
       "      <td>0.816058</td>\n",
       "      <td>0.029310</td>\n",
       "    </tr>\n",
       "    <tr>\n",
       "      <th>7</th>\n",
       "      <td>V45</td>\n",
       "      <td>0.748056</td>\n",
       "      <td>0.748056</td>\n",
       "      <td>0.026867</td>\n",
       "    </tr>\n",
       "    <tr>\n",
       "      <th>8</th>\n",
       "      <td>V36</td>\n",
       "      <td>0.736288</td>\n",
       "      <td>0.736288</td>\n",
       "      <td>0.026445</td>\n",
       "    </tr>\n",
       "    <tr>\n",
       "      <th>9</th>\n",
       "      <td>V11</td>\n",
       "      <td>0.722387</td>\n",
       "      <td>0.722387</td>\n",
       "      <td>0.025945</td>\n",
       "    </tr>\n",
       "  </tbody>\n",
       "</table>\n",
       "</div>"
      ],
      "text/plain": [
       "  Variable  Relative Importance  Scaled Importance  Percentage\n",
       "0      V10             1.000000           1.000000    0.035916\n",
       "1       V1             0.987164           0.987164    0.035455\n",
       "2       V6             0.971255           0.971255    0.034884\n",
       "3      V37             0.883656           0.883656    0.031738\n",
       "4      V46             0.876541           0.876541    0.031482\n",
       "5      V47             0.838110           0.838110    0.030102\n",
       "6      V43             0.816058           0.816058    0.029310\n",
       "7      V45             0.748056           0.748056    0.026867\n",
       "8      V36             0.736288           0.736288    0.026445\n",
       "9      V11             0.722387           0.722387    0.025945"
      ]
     },
     "execution_count": 36,
     "metadata": {},
     "output_type": "execute_result"
    }
   ],
   "source": [
    "var_df = pd.DataFrame(covtype_model_v1.varimp(), \n",
    "             columns=[\"Variable\", \"Relative Importance\", \"Scaled Importance\", \"Percentage\"])\n",
    "print var_df.shape\n",
    "var_df.head(10)"
   ]
  },
  {
   "cell_type": "code",
   "execution_count": 42,
   "metadata": {},
   "outputs": [
    {
     "name": "stdout",
     "output_type": "stream",
     "text": [
      "deeplearning Model Build progress: |██████████████████████████████████████| 100%\n"
     ]
    }
   ],
   "source": [
    "covtype_model_tuned = H2ODeepLearningEstimator(\n",
    "  model_id=\"covtype_tuned\",\n",
    "  overwrite_with_best_model=False,\n",
    "  hidden=[128,128,128],            # more hidden layers -> more complex interactions\n",
    "  epochs=10)\n",
    "covtype_model_tuned.train(covtype_X, covtype_y, training_frame=train, validation_frame=valid)"
   ]
  },
  {
   "cell_type": "code",
   "execution_count": 44,
   "metadata": {},
   "outputs": [
    {
     "name": "stdout",
     "output_type": "stream",
     "text": [
      "deeplearning prediction progress: |███████████████████████████████████████| 100%\n"
     ]
    },
    {
     "data": {
      "text/plain": [
       "0.0"
      ]
     },
     "execution_count": 44,
     "metadata": {},
     "output_type": "execute_result"
    }
   ],
   "source": [
    "pred = covtype_model_tuned.predict(test[0:-1]).as_data_frame(use_pandas=True)\n",
    "test_actual = test.as_data_frame(use_pandas=True)['Cover']\n",
    "(test_actual == pred['predict']).mean()"
   ]
  },
  {
   "cell_type": "code",
   "execution_count": null,
   "metadata": {
    "collapsed": true
   },
   "outputs": [],
   "source": []
  },
  {
   "cell_type": "code",
   "execution_count": 53,
   "metadata": {
    "collapsed": true
   },
   "outputs": [],
   "source": [
    "X_test=test[0:-1]"
   ]
  },
  {
   "cell_type": "code",
   "execution_count": 54,
   "metadata": {},
   "outputs": [
    {
     "name": "stdout",
     "output_type": "stream",
     "text": [
      "deeplearning prediction progress: |███████████████████████████████████████| 100%\n"
     ]
    }
   ],
   "source": [
    "predictions = covtype_model_v1.predict(X_test)"
   ]
  },
  {
   "cell_type": "code",
   "execution_count": 59,
   "metadata": {},
   "outputs": [
    {
     "name": "stdout",
     "output_type": "stream",
     "text": [
      "deeplearning prediction progress: |███████████████████████████████████████| 100%\n"
     ]
    },
    {
     "data": {
      "text/plain": [
       "0.0"
      ]
     },
     "execution_count": 59,
     "metadata": {},
     "output_type": "execute_result"
    }
   ],
   "source": [
    "pred = covtype_model_v1.predict(test[0:-1]).as_data_frame(use_pandas=True)\n",
    "test_actual = test.as_data_frame(use_pandas=True)['Cover']\n",
    "(test_actual == pred['predict']).mean()"
   ]
  },
  {
   "cell_type": "code",
   "execution_count": null,
   "metadata": {
    "collapsed": true
   },
   "outputs": [],
   "source": []
  }
 ],
 "metadata": {
  "kernelspec": {
   "display_name": "Python 2",
   "language": "python",
   "name": "python2"
  },
  "language_info": {
   "codemirror_mode": {
    "name": "ipython",
    "version": 2
   },
   "file_extension": ".py",
   "mimetype": "text/x-python",
   "name": "python",
   "nbconvert_exporter": "python",
   "pygments_lexer": "ipython2",
   "version": "2.7.13"
  }
 },
 "nbformat": 4,
 "nbformat_minor": 2
}
