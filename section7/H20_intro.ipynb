{
 "cells": [
  {
   "cell_type": "markdown",
   "metadata": {
    "collapsed": true
   },
   "source": [
    "## start with h2o"
   ]
  },
  {
   "cell_type": "code",
   "execution_count": 1,
   "metadata": {
    "collapsed": true
   },
   "outputs": [],
   "source": [
    "import h2o"
   ]
  },
  {
   "cell_type": "code",
   "execution_count": 2,
   "metadata": {},
   "outputs": [
    {
     "name": "stdout",
     "output_type": "stream",
     "text": [
      "Checking whether there is an H2O instance running at http://localhost:54321..... not found.\n",
      "Attempting to start a local H2O server...\n",
      "; OpenJDK 64-Bit Server VM (Zulu 8.20.0.5-win64) (build 25.121-b15, mixed mode)\n",
      "  Starting server from C:\\Users\\Minerva\\Anaconda2\\h2o_jar\\h2o.jar\n",
      "  Ice root: c:\\users\\minerva\\appdata\\local\\temp\\tmp6epeku\n",
      "  JVM stdout: c:\\users\\minerva\\appdata\\local\\temp\\tmp6epeku\\h2o_Minerva_started_from_python.out\n",
      "  JVM stderr: c:\\users\\minerva\\appdata\\local\\temp\\tmp6epeku\\h2o_Minerva_started_from_python.err\n",
      "  Server is running at http://127.0.0.1:54321\n",
      "Connecting to H2O server at http://127.0.0.1:54321... successful.\n",
      "Warning: Your H2O cluster version is too old (9 months and 16 days)! Please download and install the latest version from http://h2o.ai/download/\n"
     ]
    },
    {
     "data": {
      "text/html": [
       "<div style=\"overflow:auto\"><table style=\"width:50%\"><tr><td>H2O cluster uptime:</td>\n",
       "<td>06 secs</td></tr>\n",
       "<tr><td>H2O cluster version:</td>\n",
       "<td>3.10.0.9</td></tr>\n",
       "<tr><td>H2O cluster version age:</td>\n",
       "<td>9 months and 16 days !!!</td></tr>\n",
       "<tr><td>H2O cluster name:</td>\n",
       "<td>H2O_from_python_Minerva_h7fyaq</td></tr>\n",
       "<tr><td>H2O cluster total nodes:</td>\n",
       "<td>1</td></tr>\n",
       "<tr><td>H2O cluster free memory:</td>\n",
       "<td>3.545 Gb</td></tr>\n",
       "<tr><td>H2O cluster total cores:</td>\n",
       "<td>8</td></tr>\n",
       "<tr><td>H2O cluster allowed cores:</td>\n",
       "<td>8</td></tr>\n",
       "<tr><td>H2O cluster status:</td>\n",
       "<td>accepting new members, healthy</td></tr>\n",
       "<tr><td>H2O connection url:</td>\n",
       "<td>http://127.0.0.1:54321</td></tr>\n",
       "<tr><td>H2O connection proxy:</td>\n",
       "<td>None</td></tr>\n",
       "<tr><td>Python version:</td>\n",
       "<td>2.7.13 final</td></tr></table></div>"
      ],
      "text/plain": [
       "--------------------------  ------------------------------\n",
       "H2O cluster uptime:         06 secs\n",
       "H2O cluster version:        3.10.0.9\n",
       "H2O cluster version age:    9 months and 16 days !!!\n",
       "H2O cluster name:           H2O_from_python_Minerva_h7fyaq\n",
       "H2O cluster total nodes:    1\n",
       "H2O cluster free memory:    3.545 Gb\n",
       "H2O cluster total cores:    8\n",
       "H2O cluster allowed cores:  8\n",
       "H2O cluster status:         accepting new members, healthy\n",
       "H2O connection url:         http://127.0.0.1:54321\n",
       "H2O connection proxy:\n",
       "Python version:             2.7.13 final\n",
       "--------------------------  ------------------------------"
      ]
     },
     "metadata": {},
     "output_type": "display_data"
    }
   ],
   "source": [
    "h2o.init()"
   ]
  },
  {
   "cell_type": "code",
   "execution_count": 3,
   "metadata": {},
   "outputs": [
    {
     "name": "stdout",
     "output_type": "stream",
     "text": [
      "Parse progress: |█████████████████████████████████████████████████████████| 100%\n"
     ]
    }
   ],
   "source": [
    "iris = h2o.import_file(path=\"https://github.com/h2oai/h2o-3/raw/master/h2o-r/h2o-package/inst/extdata/iris_wheader.csv\")"
   ]
  },
  {
   "cell_type": "code",
   "execution_count": 4,
   "metadata": {},
   "outputs": [
    {
     "name": "stdout",
     "output_type": "stream",
     "text": [
      "Rows:150\n",
      "Cols:5\n",
      "\n",
      "\n"
     ]
    },
    {
     "data": {
      "text/html": [
       "<table>\n",
       "<tr><th>       </th><th>sepal_len     </th><th>sepal_wid     </th><th>petal_len    </th><th>petal_wid     </th><th>class      </th></tr>\n",
       "<tr><td>type   </td><td>real          </td><td>real          </td><td>real         </td><td>real          </td><td>enum       </td></tr>\n",
       "<tr><td>mins   </td><td>4.3           </td><td>2.0           </td><td>1.0          </td><td>0.1           </td><td>0.0        </td></tr>\n",
       "<tr><td>mean   </td><td>5.84333333333 </td><td>3.054         </td><td>3.75866666667</td><td>1.19866666667 </td><td>NaN        </td></tr>\n",
       "<tr><td>maxs   </td><td>7.9           </td><td>4.4           </td><td>6.9          </td><td>2.5           </td><td>2.0        </td></tr>\n",
       "<tr><td>sigma  </td><td>0.828066127978</td><td>0.433594311362</td><td>1.76442041995</td><td>0.763160741701</td><td>NaN        </td></tr>\n",
       "<tr><td>zeros  </td><td>0             </td><td>0             </td><td>0            </td><td>0             </td><td>50         </td></tr>\n",
       "<tr><td>missing</td><td>0             </td><td>0             </td><td>0            </td><td>0             </td><td>0          </td></tr>\n",
       "<tr><td>0      </td><td>5.1           </td><td>3.5           </td><td>1.4          </td><td>0.2           </td><td>Iris-setosa</td></tr>\n",
       "<tr><td>1      </td><td>4.9           </td><td>3.0           </td><td>1.4          </td><td>0.2           </td><td>Iris-setosa</td></tr>\n",
       "<tr><td>2      </td><td>4.7           </td><td>3.2           </td><td>1.3          </td><td>0.2           </td><td>Iris-setosa</td></tr>\n",
       "<tr><td>3      </td><td>4.6           </td><td>3.1           </td><td>1.5          </td><td>0.2           </td><td>Iris-setosa</td></tr>\n",
       "<tr><td>4      </td><td>5.0           </td><td>3.6           </td><td>1.4          </td><td>0.2           </td><td>Iris-setosa</td></tr>\n",
       "<tr><td>5      </td><td>5.4           </td><td>3.9           </td><td>1.7          </td><td>0.4           </td><td>Iris-setosa</td></tr>\n",
       "<tr><td>6      </td><td>4.6           </td><td>3.4           </td><td>1.4          </td><td>0.3           </td><td>Iris-setosa</td></tr>\n",
       "<tr><td>7      </td><td>5.0           </td><td>3.4           </td><td>1.5          </td><td>0.2           </td><td>Iris-setosa</td></tr>\n",
       "<tr><td>8      </td><td>4.4           </td><td>2.9           </td><td>1.4          </td><td>0.2           </td><td>Iris-setosa</td></tr>\n",
       "<tr><td>9      </td><td>4.9           </td><td>3.1           </td><td>1.5          </td><td>0.1           </td><td>Iris-setosa</td></tr>\n",
       "</table>"
      ]
     },
     "metadata": {},
     "output_type": "display_data"
    }
   ],
   "source": [
    "iris.describe()"
   ]
  },
  {
   "cell_type": "code",
   "execution_count": 60,
   "metadata": {},
   "outputs": [
    {
     "data": {
      "text/html": [
       "<table>\n",
       "<tr><th style=\"text-align: right;\">  sepal_len</th><th style=\"text-align: right;\">  sepal_wid</th><th style=\"text-align: right;\">  petal_len</th><th style=\"text-align: right;\">  petal_wid</th><th>class      </th></tr>\n",
       "<tr><td style=\"text-align: right;\">        5.1</td><td style=\"text-align: right;\">        3.5</td><td style=\"text-align: right;\">        1.4</td><td style=\"text-align: right;\">        0.2</td><td>Iris-setosa</td></tr>\n",
       "<tr><td style=\"text-align: right;\">        4.9</td><td style=\"text-align: right;\">        3  </td><td style=\"text-align: right;\">        1.4</td><td style=\"text-align: right;\">        0.2</td><td>Iris-setosa</td></tr>\n",
       "<tr><td style=\"text-align: right;\">        4.7</td><td style=\"text-align: right;\">        3.2</td><td style=\"text-align: right;\">        1.3</td><td style=\"text-align: right;\">        0.2</td><td>Iris-setosa</td></tr>\n",
       "<tr><td style=\"text-align: right;\">        4.6</td><td style=\"text-align: right;\">        3.1</td><td style=\"text-align: right;\">        1.5</td><td style=\"text-align: right;\">        0.2</td><td>Iris-setosa</td></tr>\n",
       "</table>"
      ]
     },
     "metadata": {},
     "output_type": "display_data"
    },
    {
     "data": {
      "text/plain": []
     },
     "execution_count": 60,
     "metadata": {},
     "output_type": "execute_result"
    }
   ],
   "source": [
    "iris.head(4)"
   ]
  },
  {
   "cell_type": "code",
   "execution_count": 5,
   "metadata": {},
   "outputs": [
    {
     "name": "stdout",
     "output_type": "stream",
     "text": [
      "Parse progress: |█████████████████████████████████████████████████████████| 100%\n"
     ]
    }
   ],
   "source": [
    "trainFrame = h2o.import_file(path=\"F:\\Python_ML\\Course6_Python4DS\\MLData_n_Script\\section11\\Digits1.csv\")"
   ]
  },
  {
   "cell_type": "code",
   "execution_count": 6,
   "metadata": {},
   "outputs": [
    {
     "data": {
      "text/html": [
       "<table>\n",
       "<tr><th style=\"text-align: right;\">  label</th><th style=\"text-align: right;\">  pixel0</th><th style=\"text-align: right;\">  pixel1</th><th style=\"text-align: right;\">  pixel2</th><th style=\"text-align: right;\">  pixel3</th><th style=\"text-align: right;\">  pixel4</th><th style=\"text-align: right;\">  pixel5</th><th style=\"text-align: right;\">  pixel6</th><th style=\"text-align: right;\">  pixel7</th><th style=\"text-align: right;\">  pixel8</th><th style=\"text-align: right;\">  pixel9</th><th style=\"text-align: right;\">  pixel10</th><th style=\"text-align: right;\">  pixel11</th><th style=\"text-align: right;\">  pixel12</th><th style=\"text-align: right;\">  pixel13</th><th style=\"text-align: right;\">  pixel14</th><th style=\"text-align: right;\">  pixel15</th><th style=\"text-align: right;\">  pixel16</th><th style=\"text-align: right;\">  pixel17</th><th style=\"text-align: right;\">  pixel18</th><th style=\"text-align: right;\">  pixel19</th><th style=\"text-align: right;\">  pixel20</th><th style=\"text-align: right;\">  pixel21</th><th style=\"text-align: right;\">  pixel22</th><th style=\"text-align: right;\">  pixel23</th><th style=\"text-align: right;\">  pixel24</th><th style=\"text-align: right;\">  pixel25</th><th style=\"text-align: right;\">  pixel26</th><th style=\"text-align: right;\">  pixel27</th><th style=\"text-align: right;\">  pixel28</th><th style=\"text-align: right;\">  pixel29</th><th style=\"text-align: right;\">  pixel30</th><th style=\"text-align: right;\">  pixel31</th><th style=\"text-align: right;\">  pixel32</th><th style=\"text-align: right;\">  pixel33</th><th style=\"text-align: right;\">  pixel34</th><th style=\"text-align: right;\">  pixel35</th><th style=\"text-align: right;\">  pixel36</th><th style=\"text-align: right;\">  pixel37</th><th style=\"text-align: right;\">  pixel38</th><th style=\"text-align: right;\">  pixel39</th><th style=\"text-align: right;\">  pixel40</th><th style=\"text-align: right;\">  pixel41</th><th style=\"text-align: right;\">  pixel42</th><th style=\"text-align: right;\">  pixel43</th><th style=\"text-align: right;\">  pixel44</th><th style=\"text-align: right;\">  pixel45</th><th style=\"text-align: right;\">  pixel46</th><th style=\"text-align: right;\">  pixel47</th><th style=\"text-align: right;\">  pixel48</th><th style=\"text-align: right;\">  pixel49</th><th style=\"text-align: right;\">  pixel50</th><th style=\"text-align: right;\">  pixel51</th><th style=\"text-align: right;\">  pixel52</th><th style=\"text-align: right;\">  pixel53</th><th style=\"text-align: right;\">  pixel54</th><th style=\"text-align: right;\">  pixel55</th><th style=\"text-align: right;\">  pixel56</th><th style=\"text-align: right;\">  pixel57</th><th style=\"text-align: right;\">  pixel58</th><th style=\"text-align: right;\">  pixel59</th><th style=\"text-align: right;\">  pixel60</th><th style=\"text-align: right;\">  pixel61</th><th style=\"text-align: right;\">  pixel62</th><th style=\"text-align: right;\">  pixel63</th><th style=\"text-align: right;\">  pixel64</th><th style=\"text-align: right;\">  pixel65</th><th style=\"text-align: right;\">  pixel66</th><th style=\"text-align: right;\">  pixel67</th><th style=\"text-align: right;\">  pixel68</th><th style=\"text-align: right;\">  pixel69</th><th style=\"text-align: right;\">  pixel70</th><th style=\"text-align: right;\">  pixel71</th><th style=\"text-align: right;\">  pixel72</th><th style=\"text-align: right;\">  pixel73</th><th style=\"text-align: right;\">  pixel74</th><th style=\"text-align: right;\">  pixel75</th><th style=\"text-align: right;\">  pixel76</th><th style=\"text-align: right;\">  pixel77</th><th style=\"text-align: right;\">  pixel78</th><th style=\"text-align: right;\">  pixel79</th><th style=\"text-align: right;\">  pixel80</th><th style=\"text-align: right;\">  pixel81</th><th style=\"text-align: right;\">  pixel82</th><th style=\"text-align: right;\">  pixel83</th><th style=\"text-align: right;\">  pixel84</th><th style=\"text-align: right;\">  pixel85</th><th style=\"text-align: right;\">  pixel86</th><th style=\"text-align: right;\">  pixel87</th><th style=\"text-align: right;\">  pixel88</th><th style=\"text-align: right;\">  pixel89</th><th style=\"text-align: right;\">  pixel90</th><th style=\"text-align: right;\">  pixel91</th><th style=\"text-align: right;\">  pixel92</th><th style=\"text-align: right;\">  pixel93</th><th style=\"text-align: right;\">  pixel94</th><th style=\"text-align: right;\">  pixel95</th><th style=\"text-align: right;\">  pixel96</th><th style=\"text-align: right;\">  pixel97</th><th style=\"text-align: right;\">  pixel98</th><th style=\"text-align: right;\">  pixel99</th><th style=\"text-align: right;\">  pixel100</th><th style=\"text-align: right;\">  pixel101</th><th style=\"text-align: right;\">  pixel102</th><th style=\"text-align: right;\">  pixel103</th><th style=\"text-align: right;\">  pixel104</th><th style=\"text-align: right;\">  pixel105</th><th style=\"text-align: right;\">  pixel106</th><th style=\"text-align: right;\">  pixel107</th><th style=\"text-align: right;\">  pixel108</th><th style=\"text-align: right;\">  pixel109</th><th style=\"text-align: right;\">  pixel110</th><th style=\"text-align: right;\">  pixel111</th><th style=\"text-align: right;\">  pixel112</th><th style=\"text-align: right;\">  pixel113</th><th style=\"text-align: right;\">  pixel114</th><th style=\"text-align: right;\">  pixel115</th><th style=\"text-align: right;\">  pixel116</th><th style=\"text-align: right;\">  pixel117</th><th style=\"text-align: right;\">  pixel118</th><th style=\"text-align: right;\">  pixel119</th><th style=\"text-align: right;\">  pixel120</th><th style=\"text-align: right;\">  pixel121</th><th style=\"text-align: right;\">  pixel122</th><th style=\"text-align: right;\">  pixel123</th><th style=\"text-align: right;\">  pixel124</th><th style=\"text-align: right;\">  pixel125</th><th style=\"text-align: right;\">  pixel126</th><th style=\"text-align: right;\">  pixel127</th><th style=\"text-align: right;\">  pixel128</th><th style=\"text-align: right;\">  pixel129</th><th style=\"text-align: right;\">  pixel130</th><th style=\"text-align: right;\">  pixel131</th><th style=\"text-align: right;\">  pixel132</th><th style=\"text-align: right;\">  pixel133</th><th style=\"text-align: right;\">  pixel134</th><th style=\"text-align: right;\">  pixel135</th><th style=\"text-align: right;\">  pixel136</th><th style=\"text-align: right;\">  pixel137</th><th style=\"text-align: right;\">  pixel138</th><th style=\"text-align: right;\">  pixel139</th><th style=\"text-align: right;\">  pixel140</th><th style=\"text-align: right;\">  pixel141</th><th style=\"text-align: right;\">  pixel142</th><th style=\"text-align: right;\">  pixel143</th><th style=\"text-align: right;\">  pixel144</th><th style=\"text-align: right;\">  pixel145</th><th style=\"text-align: right;\">  pixel146</th><th style=\"text-align: right;\">  pixel147</th><th style=\"text-align: right;\">  pixel148</th><th style=\"text-align: right;\">  pixel149</th><th style=\"text-align: right;\">  pixel150</th><th style=\"text-align: right;\">  pixel151</th><th style=\"text-align: right;\">  pixel152</th><th style=\"text-align: right;\">  pixel153</th><th style=\"text-align: right;\">  pixel154</th><th style=\"text-align: right;\">  pixel155</th><th style=\"text-align: right;\">  pixel156</th><th style=\"text-align: right;\">  pixel157</th><th style=\"text-align: right;\">  pixel158</th><th style=\"text-align: right;\">  pixel159</th><th style=\"text-align: right;\">  pixel160</th><th style=\"text-align: right;\">  pixel161</th><th style=\"text-align: right;\">  pixel162</th><th style=\"text-align: right;\">  pixel163</th><th style=\"text-align: right;\">  pixel164</th><th style=\"text-align: right;\">  pixel165</th><th style=\"text-align: right;\">  pixel166</th><th style=\"text-align: right;\">  pixel167</th><th style=\"text-align: right;\">  pixel168</th><th style=\"text-align: right;\">  pixel169</th><th style=\"text-align: right;\">  pixel170</th><th style=\"text-align: right;\">  pixel171</th><th style=\"text-align: right;\">  pixel172</th><th style=\"text-align: right;\">  pixel173</th><th style=\"text-align: right;\">  pixel174</th><th style=\"text-align: right;\">  pixel175</th><th style=\"text-align: right;\">  pixel176</th><th style=\"text-align: right;\">  pixel177</th><th style=\"text-align: right;\">  pixel178</th><th style=\"text-align: right;\">  pixel179</th><th style=\"text-align: right;\">  pixel180</th><th style=\"text-align: right;\">  pixel181</th><th style=\"text-align: right;\">  pixel182</th><th style=\"text-align: right;\">  pixel183</th><th style=\"text-align: right;\">  pixel184</th><th style=\"text-align: right;\">  pixel185</th><th style=\"text-align: right;\">  pixel186</th><th style=\"text-align: right;\">  pixel187</th><th style=\"text-align: right;\">  pixel188</th><th style=\"text-align: right;\">  pixel189</th><th style=\"text-align: right;\">  pixel190</th><th style=\"text-align: right;\">  pixel191</th><th style=\"text-align: right;\">  pixel192</th><th style=\"text-align: right;\">  pixel193</th><th style=\"text-align: right;\">  pixel194</th><th style=\"text-align: right;\">  pixel195</th><th style=\"text-align: right;\">  pixel196</th><th style=\"text-align: right;\">  pixel197</th><th style=\"text-align: right;\">  pixel198</th></tr>\n",
       "<tr><td style=\"text-align: right;\">      1</td><td style=\"text-align: right;\">       0</td><td style=\"text-align: right;\">       0</td><td style=\"text-align: right;\">       0</td><td style=\"text-align: right;\">       0</td><td style=\"text-align: right;\">       0</td><td style=\"text-align: right;\">       0</td><td style=\"text-align: right;\">       0</td><td style=\"text-align: right;\">       0</td><td style=\"text-align: right;\">       0</td><td style=\"text-align: right;\">       0</td><td style=\"text-align: right;\">        0</td><td style=\"text-align: right;\">        0</td><td style=\"text-align: right;\">        0</td><td style=\"text-align: right;\">        0</td><td style=\"text-align: right;\">        0</td><td style=\"text-align: right;\">        0</td><td style=\"text-align: right;\">        0</td><td style=\"text-align: right;\">        0</td><td style=\"text-align: right;\">        0</td><td style=\"text-align: right;\">        0</td><td style=\"text-align: right;\">        0</td><td style=\"text-align: right;\">        0</td><td style=\"text-align: right;\">        0</td><td style=\"text-align: right;\">        0</td><td style=\"text-align: right;\">        0</td><td style=\"text-align: right;\">        0</td><td style=\"text-align: right;\">        0</td><td style=\"text-align: right;\">        0</td><td style=\"text-align: right;\">        0</td><td style=\"text-align: right;\">        0</td><td style=\"text-align: right;\">        0</td><td style=\"text-align: right;\">        0</td><td style=\"text-align: right;\">        0</td><td style=\"text-align: right;\">        0</td><td style=\"text-align: right;\">        0</td><td style=\"text-align: right;\">        0</td><td style=\"text-align: right;\">        0</td><td style=\"text-align: right;\">        0</td><td style=\"text-align: right;\">        0</td><td style=\"text-align: right;\">        0</td><td style=\"text-align: right;\">        0</td><td style=\"text-align: right;\">        0</td><td style=\"text-align: right;\">        0</td><td style=\"text-align: right;\">        0</td><td style=\"text-align: right;\">        0</td><td style=\"text-align: right;\">        0</td><td style=\"text-align: right;\">        0</td><td style=\"text-align: right;\">        0</td><td style=\"text-align: right;\">        0</td><td style=\"text-align: right;\">        0</td><td style=\"text-align: right;\">        0</td><td style=\"text-align: right;\">        0</td><td style=\"text-align: right;\">        0</td><td style=\"text-align: right;\">        0</td><td style=\"text-align: right;\">        0</td><td style=\"text-align: right;\">        0</td><td style=\"text-align: right;\">        0</td><td style=\"text-align: right;\">        0</td><td style=\"text-align: right;\">        0</td><td style=\"text-align: right;\">        0</td><td style=\"text-align: right;\">        0</td><td style=\"text-align: right;\">        0</td><td style=\"text-align: right;\">        0</td><td style=\"text-align: right;\">        0</td><td style=\"text-align: right;\">        0</td><td style=\"text-align: right;\">        0</td><td style=\"text-align: right;\">        0</td><td style=\"text-align: right;\">        0</td><td style=\"text-align: right;\">        0</td><td style=\"text-align: right;\">        0</td><td style=\"text-align: right;\">        0</td><td style=\"text-align: right;\">        0</td><td style=\"text-align: right;\">        0</td><td style=\"text-align: right;\">        0</td><td style=\"text-align: right;\">        0</td><td style=\"text-align: right;\">        0</td><td style=\"text-align: right;\">        0</td><td style=\"text-align: right;\">        0</td><td style=\"text-align: right;\">        0</td><td style=\"text-align: right;\">        0</td><td style=\"text-align: right;\">        0</td><td style=\"text-align: right;\">        0</td><td style=\"text-align: right;\">        0</td><td style=\"text-align: right;\">        0</td><td style=\"text-align: right;\">        0</td><td style=\"text-align: right;\">        0</td><td style=\"text-align: right;\">        0</td><td style=\"text-align: right;\">        0</td><td style=\"text-align: right;\">        0</td><td style=\"text-align: right;\">        0</td><td style=\"text-align: right;\">        0</td><td style=\"text-align: right;\">        0</td><td style=\"text-align: right;\">        0</td><td style=\"text-align: right;\">        0</td><td style=\"text-align: right;\">        0</td><td style=\"text-align: right;\">        0</td><td style=\"text-align: right;\">        0</td><td style=\"text-align: right;\">        0</td><td style=\"text-align: right;\">        0</td><td style=\"text-align: right;\">        0</td><td style=\"text-align: right;\">         0</td><td style=\"text-align: right;\">         0</td><td style=\"text-align: right;\">         0</td><td style=\"text-align: right;\">         0</td><td style=\"text-align: right;\">         0</td><td style=\"text-align: right;\">         0</td><td style=\"text-align: right;\">         0</td><td style=\"text-align: right;\">         0</td><td style=\"text-align: right;\">         0</td><td style=\"text-align: right;\">         0</td><td style=\"text-align: right;\">         0</td><td style=\"text-align: right;\">         0</td><td style=\"text-align: right;\">         0</td><td style=\"text-align: right;\">         0</td><td style=\"text-align: right;\">         0</td><td style=\"text-align: right;\">         0</td><td style=\"text-align: right;\">         0</td><td style=\"text-align: right;\">         0</td><td style=\"text-align: right;\">         0</td><td style=\"text-align: right;\">         0</td><td style=\"text-align: right;\">         0</td><td style=\"text-align: right;\">         0</td><td style=\"text-align: right;\">         0</td><td style=\"text-align: right;\">         0</td><td style=\"text-align: right;\">         0</td><td style=\"text-align: right;\">         0</td><td style=\"text-align: right;\">         0</td><td style=\"text-align: right;\">         0</td><td style=\"text-align: right;\">         0</td><td style=\"text-align: right;\">         0</td><td style=\"text-align: right;\">         0</td><td style=\"text-align: right;\">         0</td><td style=\"text-align: right;\">       188</td><td style=\"text-align: right;\">       255</td><td style=\"text-align: right;\">        94</td><td style=\"text-align: right;\">         0</td><td style=\"text-align: right;\">         0</td><td style=\"text-align: right;\">         0</td><td style=\"text-align: right;\">         0</td><td style=\"text-align: right;\">         0</td><td style=\"text-align: right;\">         0</td><td style=\"text-align: right;\">         0</td><td style=\"text-align: right;\">         0</td><td style=\"text-align: right;\">         0</td><td style=\"text-align: right;\">         0</td><td style=\"text-align: right;\">         0</td><td style=\"text-align: right;\">         0</td><td style=\"text-align: right;\">         0</td><td style=\"text-align: right;\">         0</td><td style=\"text-align: right;\">         0</td><td style=\"text-align: right;\">         0</td><td style=\"text-align: right;\">         0</td><td style=\"text-align: right;\">         0</td><td style=\"text-align: right;\">         0</td><td style=\"text-align: right;\">         0</td><td style=\"text-align: right;\">         0</td><td style=\"text-align: right;\">         0</td><td style=\"text-align: right;\">         0</td><td style=\"text-align: right;\">         0</td><td style=\"text-align: right;\">       191</td><td style=\"text-align: right;\">       250</td><td style=\"text-align: right;\">       253</td><td style=\"text-align: right;\">        93</td><td style=\"text-align: right;\">         0</td><td style=\"text-align: right;\">         0</td><td style=\"text-align: right;\">         0</td><td style=\"text-align: right;\">         0</td><td style=\"text-align: right;\">         0</td><td style=\"text-align: right;\">         0</td><td style=\"text-align: right;\">         0</td><td style=\"text-align: right;\">         0</td><td style=\"text-align: right;\">         0</td><td style=\"text-align: right;\">         0</td><td style=\"text-align: right;\">         0</td><td style=\"text-align: right;\">         0</td><td style=\"text-align: right;\">         0</td><td style=\"text-align: right;\">         0</td><td style=\"text-align: right;\">         0</td><td style=\"text-align: right;\">         0</td><td style=\"text-align: right;\">         0</td><td style=\"text-align: right;\">         0</td><td style=\"text-align: right;\">         0</td><td style=\"text-align: right;\">         0</td><td style=\"text-align: right;\">         0</td><td style=\"text-align: right;\">         0</td><td style=\"text-align: right;\">         0</td><td style=\"text-align: right;\">       123</td><td style=\"text-align: right;\">       248</td><td style=\"text-align: right;\">       253</td><td style=\"text-align: right;\">       167</td><td style=\"text-align: right;\">        10</td><td style=\"text-align: right;\">         0</td><td style=\"text-align: right;\">         0</td><td style=\"text-align: right;\">         0</td><td style=\"text-align: right;\">         0</td><td style=\"text-align: right;\">         0</td><td style=\"text-align: right;\">         0</td><td style=\"text-align: right;\">         0</td><td style=\"text-align: right;\">         0</td></tr>\n",
       "<tr><td style=\"text-align: right;\">      0</td><td style=\"text-align: right;\">       0</td><td style=\"text-align: right;\">       0</td><td style=\"text-align: right;\">       0</td><td style=\"text-align: right;\">       0</td><td style=\"text-align: right;\">       0</td><td style=\"text-align: right;\">       0</td><td style=\"text-align: right;\">       0</td><td style=\"text-align: right;\">       0</td><td style=\"text-align: right;\">       0</td><td style=\"text-align: right;\">       0</td><td style=\"text-align: right;\">        0</td><td style=\"text-align: right;\">        0</td><td style=\"text-align: right;\">        0</td><td style=\"text-align: right;\">        0</td><td style=\"text-align: right;\">        0</td><td style=\"text-align: right;\">        0</td><td style=\"text-align: right;\">        0</td><td style=\"text-align: right;\">        0</td><td style=\"text-align: right;\">        0</td><td style=\"text-align: right;\">        0</td><td style=\"text-align: right;\">        0</td><td style=\"text-align: right;\">        0</td><td style=\"text-align: right;\">        0</td><td style=\"text-align: right;\">        0</td><td style=\"text-align: right;\">        0</td><td style=\"text-align: right;\">        0</td><td style=\"text-align: right;\">        0</td><td style=\"text-align: right;\">        0</td><td style=\"text-align: right;\">        0</td><td style=\"text-align: right;\">        0</td><td style=\"text-align: right;\">        0</td><td style=\"text-align: right;\">        0</td><td style=\"text-align: right;\">        0</td><td style=\"text-align: right;\">        0</td><td style=\"text-align: right;\">        0</td><td style=\"text-align: right;\">        0</td><td style=\"text-align: right;\">        0</td><td style=\"text-align: right;\">        0</td><td style=\"text-align: right;\">        0</td><td style=\"text-align: right;\">        0</td><td style=\"text-align: right;\">        0</td><td style=\"text-align: right;\">        0</td><td style=\"text-align: right;\">        0</td><td style=\"text-align: right;\">        0</td><td style=\"text-align: right;\">        0</td><td style=\"text-align: right;\">        0</td><td style=\"text-align: right;\">        0</td><td style=\"text-align: right;\">        0</td><td style=\"text-align: right;\">        0</td><td style=\"text-align: right;\">        0</td><td style=\"text-align: right;\">        0</td><td style=\"text-align: right;\">        0</td><td style=\"text-align: right;\">        0</td><td style=\"text-align: right;\">        0</td><td style=\"text-align: right;\">        0</td><td style=\"text-align: right;\">        0</td><td style=\"text-align: right;\">        0</td><td style=\"text-align: right;\">        0</td><td style=\"text-align: right;\">        0</td><td style=\"text-align: right;\">        0</td><td style=\"text-align: right;\">        0</td><td style=\"text-align: right;\">        0</td><td style=\"text-align: right;\">        0</td><td style=\"text-align: right;\">        0</td><td style=\"text-align: right;\">        0</td><td style=\"text-align: right;\">        0</td><td style=\"text-align: right;\">        0</td><td style=\"text-align: right;\">        0</td><td style=\"text-align: right;\">        0</td><td style=\"text-align: right;\">        0</td><td style=\"text-align: right;\">        0</td><td style=\"text-align: right;\">        0</td><td style=\"text-align: right;\">        0</td><td style=\"text-align: right;\">        0</td><td style=\"text-align: right;\">        0</td><td style=\"text-align: right;\">        0</td><td style=\"text-align: right;\">        0</td><td style=\"text-align: right;\">        0</td><td style=\"text-align: right;\">        0</td><td style=\"text-align: right;\">        0</td><td style=\"text-align: right;\">        0</td><td style=\"text-align: right;\">        0</td><td style=\"text-align: right;\">        0</td><td style=\"text-align: right;\">        0</td><td style=\"text-align: right;\">        0</td><td style=\"text-align: right;\">        0</td><td style=\"text-align: right;\">        0</td><td style=\"text-align: right;\">        0</td><td style=\"text-align: right;\">        0</td><td style=\"text-align: right;\">        0</td><td style=\"text-align: right;\">        0</td><td style=\"text-align: right;\">        0</td><td style=\"text-align: right;\">        0</td><td style=\"text-align: right;\">        0</td><td style=\"text-align: right;\">        0</td><td style=\"text-align: right;\">        0</td><td style=\"text-align: right;\">        0</td><td style=\"text-align: right;\">        0</td><td style=\"text-align: right;\">        0</td><td style=\"text-align: right;\">        0</td><td style=\"text-align: right;\">         0</td><td style=\"text-align: right;\">         0</td><td style=\"text-align: right;\">         0</td><td style=\"text-align: right;\">         0</td><td style=\"text-align: right;\">         0</td><td style=\"text-align: right;\">         0</td><td style=\"text-align: right;\">         0</td><td style=\"text-align: right;\">         0</td><td style=\"text-align: right;\">         0</td><td style=\"text-align: right;\">         0</td><td style=\"text-align: right;\">         0</td><td style=\"text-align: right;\">         0</td><td style=\"text-align: right;\">         0</td><td style=\"text-align: right;\">         0</td><td style=\"text-align: right;\">         0</td><td style=\"text-align: right;\">         0</td><td style=\"text-align: right;\">         0</td><td style=\"text-align: right;\">         0</td><td style=\"text-align: right;\">         0</td><td style=\"text-align: right;\">         0</td><td style=\"text-align: right;\">         0</td><td style=\"text-align: right;\">         0</td><td style=\"text-align: right;\">        18</td><td style=\"text-align: right;\">        30</td><td style=\"text-align: right;\">       137</td><td style=\"text-align: right;\">       137</td><td style=\"text-align: right;\">       192</td><td style=\"text-align: right;\">        86</td><td style=\"text-align: right;\">        72</td><td style=\"text-align: right;\">         1</td><td style=\"text-align: right;\">         0</td><td style=\"text-align: right;\">         0</td><td style=\"text-align: right;\">         0</td><td style=\"text-align: right;\">         0</td><td style=\"text-align: right;\">         0</td><td style=\"text-align: right;\">         0</td><td style=\"text-align: right;\">         0</td><td style=\"text-align: right;\">         0</td><td style=\"text-align: right;\">         0</td><td style=\"text-align: right;\">         0</td><td style=\"text-align: right;\">         0</td><td style=\"text-align: right;\">         0</td><td style=\"text-align: right;\">         0</td><td style=\"text-align: right;\">         0</td><td style=\"text-align: right;\">         0</td><td style=\"text-align: right;\">         0</td><td style=\"text-align: right;\">         0</td><td style=\"text-align: right;\">         0</td><td style=\"text-align: right;\">        13</td><td style=\"text-align: right;\">        86</td><td style=\"text-align: right;\">       250</td><td style=\"text-align: right;\">       254</td><td style=\"text-align: right;\">       254</td><td style=\"text-align: right;\">       254</td><td style=\"text-align: right;\">       254</td><td style=\"text-align: right;\">       217</td><td style=\"text-align: right;\">       246</td><td style=\"text-align: right;\">       151</td><td style=\"text-align: right;\">        32</td><td style=\"text-align: right;\">         0</td><td style=\"text-align: right;\">         0</td><td style=\"text-align: right;\">         0</td><td style=\"text-align: right;\">         0</td><td style=\"text-align: right;\">         0</td><td style=\"text-align: right;\">         0</td><td style=\"text-align: right;\">         0</td><td style=\"text-align: right;\">         0</td><td style=\"text-align: right;\">         0</td><td style=\"text-align: right;\">         0</td><td style=\"text-align: right;\">         0</td><td style=\"text-align: right;\">         0</td><td style=\"text-align: right;\">         0</td><td style=\"text-align: right;\">         0</td><td style=\"text-align: right;\">         0</td><td style=\"text-align: right;\">         0</td><td style=\"text-align: right;\">        16</td><td style=\"text-align: right;\">       179</td><td style=\"text-align: right;\">       254</td><td style=\"text-align: right;\">       254</td><td style=\"text-align: right;\">       254</td><td style=\"text-align: right;\">       254</td><td style=\"text-align: right;\">       254</td><td style=\"text-align: right;\">       254</td><td style=\"text-align: right;\">       254</td><td style=\"text-align: right;\">       254</td><td style=\"text-align: right;\">       254</td><td style=\"text-align: right;\">       231</td><td style=\"text-align: right;\">        54</td><td style=\"text-align: right;\">        15</td><td style=\"text-align: right;\">         0</td><td style=\"text-align: right;\">         0</td><td style=\"text-align: right;\">         0</td><td style=\"text-align: right;\">         0</td><td style=\"text-align: right;\">         0</td><td style=\"text-align: right;\">         0</td><td style=\"text-align: right;\">         0</td><td style=\"text-align: right;\">         0</td><td style=\"text-align: right;\">         0</td><td style=\"text-align: right;\">         0</td></tr>\n",
       "<tr><td style=\"text-align: right;\">      1</td><td style=\"text-align: right;\">       0</td><td style=\"text-align: right;\">       0</td><td style=\"text-align: right;\">       0</td><td style=\"text-align: right;\">       0</td><td style=\"text-align: right;\">       0</td><td style=\"text-align: right;\">       0</td><td style=\"text-align: right;\">       0</td><td style=\"text-align: right;\">       0</td><td style=\"text-align: right;\">       0</td><td style=\"text-align: right;\">       0</td><td style=\"text-align: right;\">        0</td><td style=\"text-align: right;\">        0</td><td style=\"text-align: right;\">        0</td><td style=\"text-align: right;\">        0</td><td style=\"text-align: right;\">        0</td><td style=\"text-align: right;\">        0</td><td style=\"text-align: right;\">        0</td><td style=\"text-align: right;\">        0</td><td style=\"text-align: right;\">        0</td><td style=\"text-align: right;\">        0</td><td style=\"text-align: right;\">        0</td><td style=\"text-align: right;\">        0</td><td style=\"text-align: right;\">        0</td><td style=\"text-align: right;\">        0</td><td style=\"text-align: right;\">        0</td><td style=\"text-align: right;\">        0</td><td style=\"text-align: right;\">        0</td><td style=\"text-align: right;\">        0</td><td style=\"text-align: right;\">        0</td><td style=\"text-align: right;\">        0</td><td style=\"text-align: right;\">        0</td><td style=\"text-align: right;\">        0</td><td style=\"text-align: right;\">        0</td><td style=\"text-align: right;\">        0</td><td style=\"text-align: right;\">        0</td><td style=\"text-align: right;\">        0</td><td style=\"text-align: right;\">        0</td><td style=\"text-align: right;\">        0</td><td style=\"text-align: right;\">        0</td><td style=\"text-align: right;\">        0</td><td style=\"text-align: right;\">        0</td><td style=\"text-align: right;\">        0</td><td style=\"text-align: right;\">        0</td><td style=\"text-align: right;\">        0</td><td style=\"text-align: right;\">        0</td><td style=\"text-align: right;\">        0</td><td style=\"text-align: right;\">        0</td><td style=\"text-align: right;\">        0</td><td style=\"text-align: right;\">        0</td><td style=\"text-align: right;\">        0</td><td style=\"text-align: right;\">        0</td><td style=\"text-align: right;\">        0</td><td style=\"text-align: right;\">        0</td><td style=\"text-align: right;\">        0</td><td style=\"text-align: right;\">        0</td><td style=\"text-align: right;\">        0</td><td style=\"text-align: right;\">        0</td><td style=\"text-align: right;\">        0</td><td style=\"text-align: right;\">        0</td><td style=\"text-align: right;\">        0</td><td style=\"text-align: right;\">        0</td><td style=\"text-align: right;\">        0</td><td style=\"text-align: right;\">        0</td><td style=\"text-align: right;\">        0</td><td style=\"text-align: right;\">        0</td><td style=\"text-align: right;\">        0</td><td style=\"text-align: right;\">        0</td><td style=\"text-align: right;\">        0</td><td style=\"text-align: right;\">        0</td><td style=\"text-align: right;\">        0</td><td style=\"text-align: right;\">        0</td><td style=\"text-align: right;\">        0</td><td style=\"text-align: right;\">        0</td><td style=\"text-align: right;\">        0</td><td style=\"text-align: right;\">        0</td><td style=\"text-align: right;\">        0</td><td style=\"text-align: right;\">        0</td><td style=\"text-align: right;\">        0</td><td style=\"text-align: right;\">        0</td><td style=\"text-align: right;\">        0</td><td style=\"text-align: right;\">        0</td><td style=\"text-align: right;\">        0</td><td style=\"text-align: right;\">        0</td><td style=\"text-align: right;\">        0</td><td style=\"text-align: right;\">        0</td><td style=\"text-align: right;\">        0</td><td style=\"text-align: right;\">        0</td><td style=\"text-align: right;\">        0</td><td style=\"text-align: right;\">        0</td><td style=\"text-align: right;\">        0</td><td style=\"text-align: right;\">        0</td><td style=\"text-align: right;\">        0</td><td style=\"text-align: right;\">        0</td><td style=\"text-align: right;\">        0</td><td style=\"text-align: right;\">        0</td><td style=\"text-align: right;\">        0</td><td style=\"text-align: right;\">        0</td><td style=\"text-align: right;\">        0</td><td style=\"text-align: right;\">        0</td><td style=\"text-align: right;\">        0</td><td style=\"text-align: right;\">         0</td><td style=\"text-align: right;\">         0</td><td style=\"text-align: right;\">         0</td><td style=\"text-align: right;\">         0</td><td style=\"text-align: right;\">         0</td><td style=\"text-align: right;\">         0</td><td style=\"text-align: right;\">         0</td><td style=\"text-align: right;\">         0</td><td style=\"text-align: right;\">         0</td><td style=\"text-align: right;\">         0</td><td style=\"text-align: right;\">         0</td><td style=\"text-align: right;\">         0</td><td style=\"text-align: right;\">         0</td><td style=\"text-align: right;\">         0</td><td style=\"text-align: right;\">         0</td><td style=\"text-align: right;\">         0</td><td style=\"text-align: right;\">         0</td><td style=\"text-align: right;\">         0</td><td style=\"text-align: right;\">         0</td><td style=\"text-align: right;\">         0</td><td style=\"text-align: right;\">         0</td><td style=\"text-align: right;\">         0</td><td style=\"text-align: right;\">         0</td><td style=\"text-align: right;\">         0</td><td style=\"text-align: right;\">         3</td><td style=\"text-align: right;\">       141</td><td style=\"text-align: right;\">       139</td><td style=\"text-align: right;\">         3</td><td style=\"text-align: right;\">         0</td><td style=\"text-align: right;\">         0</td><td style=\"text-align: right;\">         0</td><td style=\"text-align: right;\">         0</td><td style=\"text-align: right;\">         0</td><td style=\"text-align: right;\">         0</td><td style=\"text-align: right;\">         0</td><td style=\"text-align: right;\">         0</td><td style=\"text-align: right;\">         0</td><td style=\"text-align: right;\">         0</td><td style=\"text-align: right;\">         0</td><td style=\"text-align: right;\">         0</td><td style=\"text-align: right;\">         0</td><td style=\"text-align: right;\">         0</td><td style=\"text-align: right;\">         0</td><td style=\"text-align: right;\">         0</td><td style=\"text-align: right;\">         0</td><td style=\"text-align: right;\">         0</td><td style=\"text-align: right;\">         0</td><td style=\"text-align: right;\">         0</td><td style=\"text-align: right;\">         0</td><td style=\"text-align: right;\">         0</td><td style=\"text-align: right;\">         0</td><td style=\"text-align: right;\">         0</td><td style=\"text-align: right;\">         9</td><td style=\"text-align: right;\">       254</td><td style=\"text-align: right;\">       254</td><td style=\"text-align: right;\">         8</td><td style=\"text-align: right;\">         0</td><td style=\"text-align: right;\">         0</td><td style=\"text-align: right;\">         0</td><td style=\"text-align: right;\">         0</td><td style=\"text-align: right;\">         0</td><td style=\"text-align: right;\">         0</td><td style=\"text-align: right;\">         0</td><td style=\"text-align: right;\">         0</td><td style=\"text-align: right;\">         0</td><td style=\"text-align: right;\">         0</td><td style=\"text-align: right;\">         0</td><td style=\"text-align: right;\">         0</td><td style=\"text-align: right;\">         0</td><td style=\"text-align: right;\">         0</td><td style=\"text-align: right;\">         0</td><td style=\"text-align: right;\">         0</td><td style=\"text-align: right;\">         0</td><td style=\"text-align: right;\">         0</td><td style=\"text-align: right;\">         0</td><td style=\"text-align: right;\">         0</td><td style=\"text-align: right;\">         0</td><td style=\"text-align: right;\">         0</td><td style=\"text-align: right;\">         0</td><td style=\"text-align: right;\">         0</td><td style=\"text-align: right;\">         9</td><td style=\"text-align: right;\">       254</td><td style=\"text-align: right;\">       254</td><td style=\"text-align: right;\">         8</td><td style=\"text-align: right;\">         0</td><td style=\"text-align: right;\">         0</td><td style=\"text-align: right;\">         0</td><td style=\"text-align: right;\">         0</td><td style=\"text-align: right;\">         0</td><td style=\"text-align: right;\">         0</td><td style=\"text-align: right;\">         0</td><td style=\"text-align: right;\">         0</td><td style=\"text-align: right;\">         0</td><td style=\"text-align: right;\">         0</td><td style=\"text-align: right;\">         0</td><td style=\"text-align: right;\">         0</td><td style=\"text-align: right;\">         0</td><td style=\"text-align: right;\">         0</td><td style=\"text-align: right;\">         0</td></tr>\n",
       "<tr><td style=\"text-align: right;\">      4</td><td style=\"text-align: right;\">       0</td><td style=\"text-align: right;\">       0</td><td style=\"text-align: right;\">       0</td><td style=\"text-align: right;\">       0</td><td style=\"text-align: right;\">       0</td><td style=\"text-align: right;\">       0</td><td style=\"text-align: right;\">       0</td><td style=\"text-align: right;\">       0</td><td style=\"text-align: right;\">       0</td><td style=\"text-align: right;\">       0</td><td style=\"text-align: right;\">        0</td><td style=\"text-align: right;\">        0</td><td style=\"text-align: right;\">        0</td><td style=\"text-align: right;\">        0</td><td style=\"text-align: right;\">        0</td><td style=\"text-align: right;\">        0</td><td style=\"text-align: right;\">        0</td><td style=\"text-align: right;\">        0</td><td style=\"text-align: right;\">        0</td><td style=\"text-align: right;\">        0</td><td style=\"text-align: right;\">        0</td><td style=\"text-align: right;\">        0</td><td style=\"text-align: right;\">        0</td><td style=\"text-align: right;\">        0</td><td style=\"text-align: right;\">        0</td><td style=\"text-align: right;\">        0</td><td style=\"text-align: right;\">        0</td><td style=\"text-align: right;\">        0</td><td style=\"text-align: right;\">        0</td><td style=\"text-align: right;\">        0</td><td style=\"text-align: right;\">        0</td><td style=\"text-align: right;\">        0</td><td style=\"text-align: right;\">        0</td><td style=\"text-align: right;\">        0</td><td style=\"text-align: right;\">        0</td><td style=\"text-align: right;\">        0</td><td style=\"text-align: right;\">        0</td><td style=\"text-align: right;\">        0</td><td style=\"text-align: right;\">        0</td><td style=\"text-align: right;\">        0</td><td style=\"text-align: right;\">        0</td><td style=\"text-align: right;\">        0</td><td style=\"text-align: right;\">        0</td><td style=\"text-align: right;\">        0</td><td style=\"text-align: right;\">        0</td><td style=\"text-align: right;\">        0</td><td style=\"text-align: right;\">        0</td><td style=\"text-align: right;\">        0</td><td style=\"text-align: right;\">        0</td><td style=\"text-align: right;\">        0</td><td style=\"text-align: right;\">        0</td><td style=\"text-align: right;\">        0</td><td style=\"text-align: right;\">        0</td><td style=\"text-align: right;\">        0</td><td style=\"text-align: right;\">        0</td><td style=\"text-align: right;\">        0</td><td style=\"text-align: right;\">        0</td><td style=\"text-align: right;\">        0</td><td style=\"text-align: right;\">        0</td><td style=\"text-align: right;\">        0</td><td style=\"text-align: right;\">        0</td><td style=\"text-align: right;\">        0</td><td style=\"text-align: right;\">        0</td><td style=\"text-align: right;\">        0</td><td style=\"text-align: right;\">        0</td><td style=\"text-align: right;\">        0</td><td style=\"text-align: right;\">        0</td><td style=\"text-align: right;\">        0</td><td style=\"text-align: right;\">        0</td><td style=\"text-align: right;\">        0</td><td style=\"text-align: right;\">        0</td><td style=\"text-align: right;\">        0</td><td style=\"text-align: right;\">        0</td><td style=\"text-align: right;\">        0</td><td style=\"text-align: right;\">        0</td><td style=\"text-align: right;\">        0</td><td style=\"text-align: right;\">        0</td><td style=\"text-align: right;\">        0</td><td style=\"text-align: right;\">        0</td><td style=\"text-align: right;\">        0</td><td style=\"text-align: right;\">        0</td><td style=\"text-align: right;\">        0</td><td style=\"text-align: right;\">        0</td><td style=\"text-align: right;\">        0</td><td style=\"text-align: right;\">        0</td><td style=\"text-align: right;\">        0</td><td style=\"text-align: right;\">        0</td><td style=\"text-align: right;\">        0</td><td style=\"text-align: right;\">        0</td><td style=\"text-align: right;\">        0</td><td style=\"text-align: right;\">        0</td><td style=\"text-align: right;\">        0</td><td style=\"text-align: right;\">        0</td><td style=\"text-align: right;\">        0</td><td style=\"text-align: right;\">        0</td><td style=\"text-align: right;\">        0</td><td style=\"text-align: right;\">        0</td><td style=\"text-align: right;\">        0</td><td style=\"text-align: right;\">        0</td><td style=\"text-align: right;\">        0</td><td style=\"text-align: right;\">         0</td><td style=\"text-align: right;\">         0</td><td style=\"text-align: right;\">         0</td><td style=\"text-align: right;\">         0</td><td style=\"text-align: right;\">         0</td><td style=\"text-align: right;\">         0</td><td style=\"text-align: right;\">         0</td><td style=\"text-align: right;\">         0</td><td style=\"text-align: right;\">         0</td><td style=\"text-align: right;\">         0</td><td style=\"text-align: right;\">         0</td><td style=\"text-align: right;\">         0</td><td style=\"text-align: right;\">         0</td><td style=\"text-align: right;\">         0</td><td style=\"text-align: right;\">         0</td><td style=\"text-align: right;\">         0</td><td style=\"text-align: right;\">         0</td><td style=\"text-align: right;\">         0</td><td style=\"text-align: right;\">         0</td><td style=\"text-align: right;\">         0</td><td style=\"text-align: right;\">         0</td><td style=\"text-align: right;\">         0</td><td style=\"text-align: right;\">         0</td><td style=\"text-align: right;\">         0</td><td style=\"text-align: right;\">         0</td><td style=\"text-align: right;\">         0</td><td style=\"text-align: right;\">         0</td><td style=\"text-align: right;\">         0</td><td style=\"text-align: right;\">         0</td><td style=\"text-align: right;\">         0</td><td style=\"text-align: right;\">         0</td><td style=\"text-align: right;\">         0</td><td style=\"text-align: right;\">         0</td><td style=\"text-align: right;\">         0</td><td style=\"text-align: right;\">         0</td><td style=\"text-align: right;\">         0</td><td style=\"text-align: right;\">         0</td><td style=\"text-align: right;\">         0</td><td style=\"text-align: right;\">         0</td><td style=\"text-align: right;\">         0</td><td style=\"text-align: right;\">         0</td><td style=\"text-align: right;\">         0</td><td style=\"text-align: right;\">         0</td><td style=\"text-align: right;\">         0</td><td style=\"text-align: right;\">         0</td><td style=\"text-align: right;\">         0</td><td style=\"text-align: right;\">       220</td><td style=\"text-align: right;\">       179</td><td style=\"text-align: right;\">         6</td><td style=\"text-align: right;\">         0</td><td style=\"text-align: right;\">         0</td><td style=\"text-align: right;\">         0</td><td style=\"text-align: right;\">         0</td><td style=\"text-align: right;\">         0</td><td style=\"text-align: right;\">         0</td><td style=\"text-align: right;\">         0</td><td style=\"text-align: right;\">         0</td><td style=\"text-align: right;\">         9</td><td style=\"text-align: right;\">        77</td><td style=\"text-align: right;\">         0</td><td style=\"text-align: right;\">         0</td><td style=\"text-align: right;\">         0</td><td style=\"text-align: right;\">         0</td><td style=\"text-align: right;\">         0</td><td style=\"text-align: right;\">         0</td><td style=\"text-align: right;\">         0</td><td style=\"text-align: right;\">         0</td><td style=\"text-align: right;\">         0</td><td style=\"text-align: right;\">         0</td><td style=\"text-align: right;\">         0</td><td style=\"text-align: right;\">         0</td><td style=\"text-align: right;\">         0</td><td style=\"text-align: right;\">         0</td><td style=\"text-align: right;\">         0</td><td style=\"text-align: right;\">        28</td><td style=\"text-align: right;\">       247</td><td style=\"text-align: right;\">        17</td><td style=\"text-align: right;\">         0</td><td style=\"text-align: right;\">         0</td><td style=\"text-align: right;\">         0</td><td style=\"text-align: right;\">         0</td><td style=\"text-align: right;\">         0</td><td style=\"text-align: right;\">         0</td><td style=\"text-align: right;\">         0</td><td style=\"text-align: right;\">         0</td><td style=\"text-align: right;\">        27</td><td style=\"text-align: right;\">       202</td><td style=\"text-align: right;\">         0</td><td style=\"text-align: right;\">         0</td><td style=\"text-align: right;\">         0</td><td style=\"text-align: right;\">         0</td><td style=\"text-align: right;\">         0</td><td style=\"text-align: right;\">         0</td><td style=\"text-align: right;\">         0</td><td style=\"text-align: right;\">         0</td><td style=\"text-align: right;\">         0</td><td style=\"text-align: right;\">         0</td><td style=\"text-align: right;\">         0</td><td style=\"text-align: right;\">         0</td></tr>\n",
       "<tr><td style=\"text-align: right;\">      0</td><td style=\"text-align: right;\">       0</td><td style=\"text-align: right;\">       0</td><td style=\"text-align: right;\">       0</td><td style=\"text-align: right;\">       0</td><td style=\"text-align: right;\">       0</td><td style=\"text-align: right;\">       0</td><td style=\"text-align: right;\">       0</td><td style=\"text-align: right;\">       0</td><td style=\"text-align: right;\">       0</td><td style=\"text-align: right;\">       0</td><td style=\"text-align: right;\">        0</td><td style=\"text-align: right;\">        0</td><td style=\"text-align: right;\">        0</td><td style=\"text-align: right;\">        0</td><td style=\"text-align: right;\">        0</td><td style=\"text-align: right;\">        0</td><td style=\"text-align: right;\">        0</td><td style=\"text-align: right;\">        0</td><td style=\"text-align: right;\">        0</td><td style=\"text-align: right;\">        0</td><td style=\"text-align: right;\">        0</td><td style=\"text-align: right;\">        0</td><td style=\"text-align: right;\">        0</td><td style=\"text-align: right;\">        0</td><td style=\"text-align: right;\">        0</td><td style=\"text-align: right;\">        0</td><td style=\"text-align: right;\">        0</td><td style=\"text-align: right;\">        0</td><td style=\"text-align: right;\">        0</td><td style=\"text-align: right;\">        0</td><td style=\"text-align: right;\">        0</td><td style=\"text-align: right;\">        0</td><td style=\"text-align: right;\">        0</td><td style=\"text-align: right;\">        0</td><td style=\"text-align: right;\">        0</td><td style=\"text-align: right;\">        0</td><td style=\"text-align: right;\">        0</td><td style=\"text-align: right;\">        0</td><td style=\"text-align: right;\">        0</td><td style=\"text-align: right;\">        0</td><td style=\"text-align: right;\">        0</td><td style=\"text-align: right;\">        0</td><td style=\"text-align: right;\">        0</td><td style=\"text-align: right;\">        0</td><td style=\"text-align: right;\">        0</td><td style=\"text-align: right;\">        0</td><td style=\"text-align: right;\">        0</td><td style=\"text-align: right;\">        0</td><td style=\"text-align: right;\">        0</td><td style=\"text-align: right;\">        0</td><td style=\"text-align: right;\">        0</td><td style=\"text-align: right;\">        0</td><td style=\"text-align: right;\">        0</td><td style=\"text-align: right;\">        0</td><td style=\"text-align: right;\">        0</td><td style=\"text-align: right;\">        0</td><td style=\"text-align: right;\">        0</td><td style=\"text-align: right;\">        0</td><td style=\"text-align: right;\">        0</td><td style=\"text-align: right;\">        0</td><td style=\"text-align: right;\">        0</td><td style=\"text-align: right;\">        0</td><td style=\"text-align: right;\">        0</td><td style=\"text-align: right;\">        0</td><td style=\"text-align: right;\">        0</td><td style=\"text-align: right;\">        0</td><td style=\"text-align: right;\">        0</td><td style=\"text-align: right;\">        0</td><td style=\"text-align: right;\">        0</td><td style=\"text-align: right;\">        0</td><td style=\"text-align: right;\">        0</td><td style=\"text-align: right;\">        0</td><td style=\"text-align: right;\">        0</td><td style=\"text-align: right;\">        0</td><td style=\"text-align: right;\">        0</td><td style=\"text-align: right;\">        0</td><td style=\"text-align: right;\">        0</td><td style=\"text-align: right;\">        0</td><td style=\"text-align: right;\">        0</td><td style=\"text-align: right;\">        0</td><td style=\"text-align: right;\">        0</td><td style=\"text-align: right;\">        0</td><td style=\"text-align: right;\">        0</td><td style=\"text-align: right;\">        0</td><td style=\"text-align: right;\">        0</td><td style=\"text-align: right;\">        0</td><td style=\"text-align: right;\">        0</td><td style=\"text-align: right;\">        0</td><td style=\"text-align: right;\">        0</td><td style=\"text-align: right;\">        0</td><td style=\"text-align: right;\">        0</td><td style=\"text-align: right;\">        0</td><td style=\"text-align: right;\">        0</td><td style=\"text-align: right;\">        0</td><td style=\"text-align: right;\">        0</td><td style=\"text-align: right;\">        0</td><td style=\"text-align: right;\">        0</td><td style=\"text-align: right;\">        0</td><td style=\"text-align: right;\">        0</td><td style=\"text-align: right;\">        0</td><td style=\"text-align: right;\">         0</td><td style=\"text-align: right;\">         0</td><td style=\"text-align: right;\">         0</td><td style=\"text-align: right;\">         0</td><td style=\"text-align: right;\">         0</td><td style=\"text-align: right;\">         0</td><td style=\"text-align: right;\">         0</td><td style=\"text-align: right;\">         0</td><td style=\"text-align: right;\">         0</td><td style=\"text-align: right;\">         0</td><td style=\"text-align: right;\">         0</td><td style=\"text-align: right;\">         0</td><td style=\"text-align: right;\">         0</td><td style=\"text-align: right;\">         0</td><td style=\"text-align: right;\">         0</td><td style=\"text-align: right;\">         0</td><td style=\"text-align: right;\">         0</td><td style=\"text-align: right;\">         0</td><td style=\"text-align: right;\">         0</td><td style=\"text-align: right;\">         0</td><td style=\"text-align: right;\">         0</td><td style=\"text-align: right;\">         1</td><td style=\"text-align: right;\">        25</td><td style=\"text-align: right;\">       130</td><td style=\"text-align: right;\">       155</td><td style=\"text-align: right;\">       254</td><td style=\"text-align: right;\">       254</td><td style=\"text-align: right;\">       254</td><td style=\"text-align: right;\">       157</td><td style=\"text-align: right;\">        30</td><td style=\"text-align: right;\">         2</td><td style=\"text-align: right;\">         0</td><td style=\"text-align: right;\">         0</td><td style=\"text-align: right;\">         0</td><td style=\"text-align: right;\">         0</td><td style=\"text-align: right;\">         0</td><td style=\"text-align: right;\">         0</td><td style=\"text-align: right;\">         0</td><td style=\"text-align: right;\">         0</td><td style=\"text-align: right;\">         0</td><td style=\"text-align: right;\">         0</td><td style=\"text-align: right;\">         0</td><td style=\"text-align: right;\">         0</td><td style=\"text-align: right;\">         0</td><td style=\"text-align: right;\">         0</td><td style=\"text-align: right;\">         0</td><td style=\"text-align: right;\">         0</td><td style=\"text-align: right;\">         0</td><td style=\"text-align: right;\">         8</td><td style=\"text-align: right;\">       103</td><td style=\"text-align: right;\">       253</td><td style=\"text-align: right;\">       253</td><td style=\"text-align: right;\">       253</td><td style=\"text-align: right;\">       253</td><td style=\"text-align: right;\">       253</td><td style=\"text-align: right;\">       253</td><td style=\"text-align: right;\">       253</td><td style=\"text-align: right;\">       253</td><td style=\"text-align: right;\">       114</td><td style=\"text-align: right;\">         2</td><td style=\"text-align: right;\">         0</td><td style=\"text-align: right;\">         0</td><td style=\"text-align: right;\">         0</td><td style=\"text-align: right;\">         0</td><td style=\"text-align: right;\">         0</td><td style=\"text-align: right;\">         0</td><td style=\"text-align: right;\">         0</td><td style=\"text-align: right;\">         0</td><td style=\"text-align: right;\">         0</td><td style=\"text-align: right;\">         0</td><td style=\"text-align: right;\">         0</td><td style=\"text-align: right;\">         0</td><td style=\"text-align: right;\">         0</td><td style=\"text-align: right;\">         0</td><td style=\"text-align: right;\">         0</td><td style=\"text-align: right;\">        11</td><td style=\"text-align: right;\">       208</td><td style=\"text-align: right;\">       253</td><td style=\"text-align: right;\">       253</td><td style=\"text-align: right;\">       253</td><td style=\"text-align: right;\">       253</td><td style=\"text-align: right;\">       253</td><td style=\"text-align: right;\">       253</td><td style=\"text-align: right;\">       253</td><td style=\"text-align: right;\">       253</td><td style=\"text-align: right;\">       253</td><td style=\"text-align: right;\">       253</td><td style=\"text-align: right;\">       107</td><td style=\"text-align: right;\">         0</td><td style=\"text-align: right;\">         0</td><td style=\"text-align: right;\">         0</td><td style=\"text-align: right;\">         0</td><td style=\"text-align: right;\">         0</td><td style=\"text-align: right;\">         0</td><td style=\"text-align: right;\">         0</td><td style=\"text-align: right;\">         0</td><td style=\"text-align: right;\">         0</td><td style=\"text-align: right;\">         0</td><td style=\"text-align: right;\">         0</td></tr>\n",
       "</table>"
      ]
     },
     "metadata": {},
     "output_type": "display_data"
    },
    {
     "data": {
      "text/plain": []
     },
     "execution_count": 6,
     "metadata": {},
     "output_type": "execute_result"
    }
   ],
   "source": [
    "trainFrame.head(5)"
   ]
  },
  {
   "cell_type": "code",
   "execution_count": 7,
   "metadata": {},
   "outputs": [
    {
     "data": {
      "text/plain": [
       "(42000, 785)"
      ]
     },
     "execution_count": 7,
     "metadata": {},
     "output_type": "execute_result"
    }
   ],
   "source": [
    "trainFrame.shape"
   ]
  },
  {
   "cell_type": "code",
   "execution_count": null,
   "metadata": {
    "collapsed": true
   },
   "outputs": [],
   "source": []
  },
  {
   "cell_type": "code",
   "execution_count": 47,
   "metadata": {},
   "outputs": [
    {
     "name": "stdout",
     "output_type": "stream",
     "text": [
      "Parse progress: |█████████████████████████████████████████████████████████| 100%\n"
     ]
    }
   ],
   "source": [
    "g=h2o.import_file(path=\"F:\\Python_ML\\Course6_Python4DS\\MLData_n_Script\\section11\\glassClass.csv\")"
   ]
  },
  {
   "cell_type": "code",
   "execution_count": 48,
   "metadata": {},
   "outputs": [
    {
     "name": "stdout",
     "output_type": "stream",
     "text": [
      "Rows:214\n",
      "Cols:10\n",
      "\n",
      "\n"
     ]
    },
    {
     "data": {
      "text/html": [
       "<table>\n",
       "<tr><th>       </th><th>RI              </th><th>Na            </th><th>Mg           </th><th>Al           </th><th>Si            </th><th>K             </th><th>Ca           </th><th>Ba            </th><th>Fe             </th><th>Type         </th></tr>\n",
       "<tr><td>type   </td><td>real            </td><td>real          </td><td>real         </td><td>real         </td><td>real          </td><td>real          </td><td>real         </td><td>real          </td><td>real           </td><td>int          </td></tr>\n",
       "<tr><td>mins   </td><td>1.51115         </td><td>10.73         </td><td>0.0          </td><td>0.29         </td><td>69.81         </td><td>0.0           </td><td>5.43         </td><td>0.0           </td><td>0.0            </td><td>1.0          </td></tr>\n",
       "<tr><td>mean   </td><td>1.51836542056   </td><td>13.4078504673 </td><td>2.68453271028</td><td>1.44490654206</td><td>72.6509345794 </td><td>0.497056074766</td><td>8.95696261682</td><td>0.175046728972</td><td>0.0570093457944</td><td>2.78037383178</td></tr>\n",
       "<tr><td>maxs   </td><td>1.53393         </td><td>17.38         </td><td>4.49         </td><td>3.5          </td><td>75.41         </td><td>6.21          </td><td>16.19        </td><td>3.15          </td><td>0.51           </td><td>7.0          </td></tr>\n",
       "<tr><td>sigma  </td><td>0.00303686373939</td><td>0.816603555715</td><td>1.44240784487</td><td>0.4992696456 </td><td>0.774545794765</td><td>0.652191845559</td><td>1.42315348728</td><td>0.4972192606  </td><td>0.0974387006365</td><td>2.1037386462 </td></tr>\n",
       "<tr><td>zeros  </td><td>0               </td><td>0             </td><td>42           </td><td>0            </td><td>0             </td><td>30            </td><td>0            </td><td>176           </td><td>144            </td><td>0            </td></tr>\n",
       "<tr><td>missing</td><td>0               </td><td>0             </td><td>0            </td><td>0            </td><td>0             </td><td>0             </td><td>0            </td><td>0             </td><td>0              </td><td>0            </td></tr>\n",
       "<tr><td>0      </td><td>1.52101         </td><td>13.64         </td><td>4.49         </td><td>1.1          </td><td>71.78         </td><td>0.06          </td><td>8.75         </td><td>0.0           </td><td>0.0            </td><td>1.0          </td></tr>\n",
       "<tr><td>1      </td><td>1.51761         </td><td>13.89         </td><td>3.6          </td><td>1.36         </td><td>72.73         </td><td>0.48          </td><td>7.83         </td><td>0.0           </td><td>0.0            </td><td>1.0          </td></tr>\n",
       "<tr><td>2      </td><td>1.51618         </td><td>13.53         </td><td>3.55         </td><td>1.54         </td><td>72.99         </td><td>0.39          </td><td>7.78         </td><td>0.0           </td><td>0.0            </td><td>1.0          </td></tr>\n",
       "<tr><td>3      </td><td>1.51766         </td><td>13.21         </td><td>3.69         </td><td>1.29         </td><td>72.61         </td><td>0.57          </td><td>8.22         </td><td>0.0           </td><td>0.0            </td><td>1.0          </td></tr>\n",
       "<tr><td>4      </td><td>1.51742         </td><td>13.27         </td><td>3.62         </td><td>1.24         </td><td>73.08         </td><td>0.55          </td><td>8.07         </td><td>0.0           </td><td>0.0            </td><td>1.0          </td></tr>\n",
       "<tr><td>5      </td><td>1.51596         </td><td>12.79         </td><td>3.61         </td><td>1.62         </td><td>72.97         </td><td>0.64          </td><td>8.07         </td><td>0.0           </td><td>0.26           </td><td>1.0          </td></tr>\n",
       "<tr><td>6      </td><td>1.51743         </td><td>13.3          </td><td>3.6          </td><td>1.14         </td><td>73.09         </td><td>0.58          </td><td>8.17         </td><td>0.0           </td><td>0.0            </td><td>1.0          </td></tr>\n",
       "<tr><td>7      </td><td>1.51756         </td><td>13.15         </td><td>3.61         </td><td>1.05         </td><td>73.24         </td><td>0.57          </td><td>8.24         </td><td>0.0           </td><td>0.0            </td><td>1.0          </td></tr>\n",
       "<tr><td>8      </td><td>1.51918         </td><td>14.04         </td><td>3.58         </td><td>1.37         </td><td>72.08         </td><td>0.56          </td><td>8.3          </td><td>0.0           </td><td>0.0            </td><td>1.0          </td></tr>\n",
       "<tr><td>9      </td><td>1.51755         </td><td>13.0          </td><td>3.6          </td><td>1.36         </td><td>72.99         </td><td>0.57          </td><td>8.4          </td><td>0.0           </td><td>0.11           </td><td>1.0          </td></tr>\n",
       "</table>"
      ]
     },
     "metadata": {},
     "output_type": "display_data"
    }
   ],
   "source": [
    "g.describe()"
   ]
  },
  {
   "cell_type": "code",
   "execution_count": 49,
   "metadata": {},
   "outputs": [
    {
     "data": {
      "text/html": [
       "<table>\n",
       "<tr><th style=\"text-align: right;\">     RI</th><th style=\"text-align: right;\">   Na</th><th style=\"text-align: right;\">  Mg</th><th style=\"text-align: right;\">  Al</th><th style=\"text-align: right;\">   Si</th><th style=\"text-align: right;\">   K</th><th style=\"text-align: right;\">  Ca</th><th style=\"text-align: right;\">  Ba</th><th style=\"text-align: right;\">  Fe</th><th style=\"text-align: right;\">  Type</th></tr>\n",
       "<tr><td style=\"text-align: right;\">1.52101</td><td style=\"text-align: right;\">13.64</td><td style=\"text-align: right;\">4.49</td><td style=\"text-align: right;\">1.1 </td><td style=\"text-align: right;\">71.78</td><td style=\"text-align: right;\">0.06</td><td style=\"text-align: right;\">8.75</td><td style=\"text-align: right;\">   0</td><td style=\"text-align: right;\">   0</td><td style=\"text-align: right;\">     1</td></tr>\n",
       "<tr><td style=\"text-align: right;\">1.51761</td><td style=\"text-align: right;\">13.89</td><td style=\"text-align: right;\">3.6 </td><td style=\"text-align: right;\">1.36</td><td style=\"text-align: right;\">72.73</td><td style=\"text-align: right;\">0.48</td><td style=\"text-align: right;\">7.83</td><td style=\"text-align: right;\">   0</td><td style=\"text-align: right;\">   0</td><td style=\"text-align: right;\">     1</td></tr>\n",
       "<tr><td style=\"text-align: right;\">1.51618</td><td style=\"text-align: right;\">13.53</td><td style=\"text-align: right;\">3.55</td><td style=\"text-align: right;\">1.54</td><td style=\"text-align: right;\">72.99</td><td style=\"text-align: right;\">0.39</td><td style=\"text-align: right;\">7.78</td><td style=\"text-align: right;\">   0</td><td style=\"text-align: right;\">   0</td><td style=\"text-align: right;\">     1</td></tr>\n",
       "<tr><td style=\"text-align: right;\">1.51766</td><td style=\"text-align: right;\">13.21</td><td style=\"text-align: right;\">3.69</td><td style=\"text-align: right;\">1.29</td><td style=\"text-align: right;\">72.61</td><td style=\"text-align: right;\">0.57</td><td style=\"text-align: right;\">8.22</td><td style=\"text-align: right;\">   0</td><td style=\"text-align: right;\">   0</td><td style=\"text-align: right;\">     1</td></tr>\n",
       "<tr><td style=\"text-align: right;\">1.51742</td><td style=\"text-align: right;\">13.27</td><td style=\"text-align: right;\">3.62</td><td style=\"text-align: right;\">1.24</td><td style=\"text-align: right;\">73.08</td><td style=\"text-align: right;\">0.55</td><td style=\"text-align: right;\">8.07</td><td style=\"text-align: right;\">   0</td><td style=\"text-align: right;\">   0</td><td style=\"text-align: right;\">     1</td></tr>\n",
       "</table>"
      ]
     },
     "metadata": {},
     "output_type": "display_data"
    },
    {
     "data": {
      "text/plain": []
     },
     "execution_count": 49,
     "metadata": {},
     "output_type": "execute_result"
    }
   ],
   "source": [
    "g.head(5)"
   ]
  },
  {
   "cell_type": "code",
   "execution_count": null,
   "metadata": {
    "collapsed": true
   },
   "outputs": [],
   "source": []
  }
 ],
 "metadata": {
  "kernelspec": {
   "display_name": "Python 2",
   "language": "python",
   "name": "python2"
  },
  "language_info": {
   "codemirror_mode": {
    "name": "ipython",
    "version": 2
   },
   "file_extension": ".py",
   "mimetype": "text/x-python",
   "name": "python",
   "nbconvert_exporter": "python",
   "pygments_lexer": "ipython2",
   "version": "2.7.13"
  }
 },
 "nbformat": 4,
 "nbformat_minor": 2
}
